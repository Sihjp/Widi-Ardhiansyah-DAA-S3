{
  "nbformat": 4,
  "nbformat_minor": 0,
  "metadata": {
    "colab": {
      "provenance": [],
      "include_colab_link": true
    },
    "kernelspec": {
      "name": "python3",
      "display_name": "Python 3"
    },
    "language_info": {
      "name": "python"
    }
  },
  "cells": [
    {
      "cell_type": "markdown",
      "metadata": {
        "id": "view-in-github",
        "colab_type": "text"
      },
      "source": [
        "<a href=\"https://colab.research.google.com/github/Sihjp/Widi-Ardhiansyah-DAA-S3/blob/main/DAA_materi_dan_terapan%2C_week2.ipynb\" target=\"_parent\"><img src=\"https://colab.research.google.com/assets/colab-badge.svg\" alt=\"Open In Colab\"/></a>"
      ]
    },
    {
      "cell_type": "code",
      "execution_count": null,
      "metadata": {
        "colab": {
          "base_uri": "https://localhost:8080/"
        },
        "id": "XWA1gYgz3a9T",
        "outputId": "7eb82209-1bb6-40fc-fa31-aadb7a7a455f"
      },
      "outputs": [
        {
          "output_type": "stream",
          "name": "stdout",
          "text": [
            "[1, 2, 3, 4, 5, 6]\n"
          ]
        }
      ],
      "source": [
        "import numpy as np\n",
        "# list a and b\n",
        "a = [1,2,3]\n",
        "b = [4,5,6]\n",
        "\n",
        "# jumlahkan\n",
        "hasil = a + b\n",
        "\n",
        "print (hasil)\n",
        "# Hasil keluaran menjadi penggabungan data bukan penjumlahan data"
      ]
    },
    {
      "cell_type": "code",
      "source": [
        "import numpy as np\n",
        "\n",
        "a = [1,2,3]\n",
        "b = [4,5,6]\n",
        "\n",
        "def add(list_a, list_b):\n",
        "  result = []\n",
        "  for first, second in zip (list_a, list_b):\n",
        "    result.append(first + second)\n",
        "\n",
        "  return result\n",
        "print(add(a,b))\n",
        "# Hasil keluaran menjadi penjumlahan hasil tersebut benar"
      ],
      "metadata": {
        "colab": {
          "base_uri": "https://localhost:8080/"
        },
        "id": "snceAh9_4GLv",
        "outputId": "3085702f-fb40-4e0b-a90a-385379787c1a"
      },
      "execution_count": null,
      "outputs": [
        {
          "output_type": "stream",
          "name": "stdout",
          "text": [
            "[5, 7, 9]\n"
          ]
        }
      ]
    },
    {
      "cell_type": "code",
      "source": [
        "import numpy as np\n",
        "\n",
        "# membuat array\n",
        "nilai_siswa = np.array([85, 55, 40, 90])\n",
        "\n",
        "# mengakses data pada array\n",
        "print(nilai_siswa[1])"
      ],
      "metadata": {
        "colab": {
          "base_uri": "https://localhost:8080/"
        },
        "id": "iiGamNFW4nmY",
        "outputId": "aa801bed-57ed-47da-8d26-ba958dd7872d"
      },
      "execution_count": null,
      "outputs": [
        {
          "output_type": "stream",
          "name": "stdout",
          "text": [
            "55\n"
          ]
        }
      ]
    },
    {
      "cell_type": "code",
      "source": [
        "print(\"hello world!\")\n",
        "print(\"Nama saya (isi nama)\")\n",
        "print(\"NIM saya (isi nim)\")\n",
        "\n",
        "if 5>2:\n",
        "  print(\"Ooga Bungas\")\n",
        "\n",
        "\n",
        "x = 5\n",
        "y = \"john\"\n",
        "print (x)\n",
        "print (y)\n",
        "\n",
        "x = 4\n",
        "x = \"sally\"\n",
        "print (x)"
      ],
      "metadata": {
        "colab": {
          "base_uri": "https://localhost:8080/"
        },
        "id": "O5-0jbnP9aPw",
        "outputId": "8a096ef1-5854-45ae-cb2c-b1434d47a974"
      },
      "execution_count": null,
      "outputs": [
        {
          "output_type": "stream",
          "name": "stdout",
          "text": [
            "hello world!\n",
            "Nama saya (isi nama)\n",
            "NIM saya (isi nim)\n",
            "Ooga Bungas\n",
            "5\n",
            "john\n",
            "sally\n"
          ]
        }
      ]
    },
    {
      "cell_type": "code",
      "source": [
        "import numpy as np\n",
        "print(np.__version__)"
      ],
      "metadata": {
        "colab": {
          "base_uri": "https://localhost:8080/"
        },
        "id": "Qc4Dgs8xAuJ_",
        "outputId": "d15651f9-a789-482c-adfe-9f79ec8341e7"
      },
      "execution_count": null,
      "outputs": [
        {
          "output_type": "stream",
          "name": "stdout",
          "text": [
            "1.23.5\n"
          ]
        }
      ]
    },
    {
      "cell_type": "code",
      "source": [
        "def getFirst(myList):\n",
        "  return myList[0]\n",
        "\n",
        "getFirst([1,2,3,4,5])\n"
      ],
      "metadata": {
        "colab": {
          "base_uri": "https://localhost:8080/"
        },
        "id": "RrZuihU4-C9_",
        "outputId": "9231b337-d114-466c-d7c2-fc6d59b8186b"
      },
      "execution_count": null,
      "outputs": [
        {
          "output_type": "execute_result",
          "data": {
            "text/plain": [
              "1"
            ]
          },
          "metadata": {},
          "execution_count": 102
        }
      ]
    },
    {
      "cell_type": "code",
      "source": [
        "getFirst([1,2,3])"
      ],
      "metadata": {
        "colab": {
          "base_uri": "https://localhost:8080/"
        },
        "id": "FBFjHDhyCacW",
        "outputId": "c55aeaa9-6496-4900-c6b4-ae989ffd8f4a"
      },
      "execution_count": null,
      "outputs": [
        {
          "output_type": "execute_result",
          "data": {
            "text/plain": [
              "1"
            ]
          },
          "metadata": {},
          "execution_count": 44
        }
      ]
    },
    {
      "cell_type": "code",
      "source": [
        "getFirst([1,2,3,4,5])"
      ],
      "metadata": {
        "colab": {
          "base_uri": "https://localhost:8080/"
        },
        "id": "YLdvbcCNCSJH",
        "outputId": "c18dbf23-22a6-45dd-d01d-80fbf67fa6af"
      },
      "execution_count": null,
      "outputs": [
        {
          "output_type": "execute_result",
          "data": {
            "text/plain": [
              "1"
            ]
          },
          "metadata": {},
          "execution_count": 43
        }
      ]
    },
    {
      "cell_type": "code",
      "source": [
        "def getSecond(myList):\n",
        "  return myList[1]\n",
        "\n",
        "getSecond([1,2,3])"
      ],
      "metadata": {
        "colab": {
          "base_uri": "https://localhost:8080/"
        },
        "id": "HWtxLOTwCfO_",
        "outputId": "6d9875f4-c45e-44ab-f2a3-75ea98e9cccf"
      },
      "execution_count": null,
      "outputs": [
        {
          "output_type": "execute_result",
          "data": {
            "text/plain": [
              "2"
            ]
          },
          "metadata": {},
          "execution_count": 64
        }
      ]
    },
    {
      "cell_type": "code",
      "source": [
        "getFirst([1123,23,43,212,345,827])"
      ],
      "metadata": {
        "colab": {
          "base_uri": "https://localhost:8080/"
        },
        "id": "xOGWFveaHFr2",
        "outputId": "9b61f74c-886a-4884-acc0-3b4668926aea"
      },
      "execution_count": null,
      "outputs": [
        {
          "output_type": "execute_result",
          "data": {
            "text/plain": [
              "1123"
            ]
          },
          "metadata": {},
          "execution_count": 87
        }
      ]
    },
    {
      "cell_type": "code",
      "source": [
        "def getLast(myList):\n",
        "  return myList[len(myList)-1] #len berfungsi ....\n",
        "getLast([1,23,4,56,34,256])"
      ],
      "metadata": {
        "colab": {
          "base_uri": "https://localhost:8080/"
        },
        "id": "auE_j7F6KT5e",
        "outputId": "1ab62678-a5c2-41f3-d730-93a40f924465"
      },
      "execution_count": null,
      "outputs": [
        {
          "output_type": "execute_result",
          "data": {
            "text/plain": [
              "256"
            ]
          },
          "metadata": {},
          "execution_count": 108
        }
      ]
    },
    {
      "cell_type": "code",
      "source": [
        "def getFirst(myList):\n",
        "  return myList[0]\n",
        "\n",
        "print(getFirst([3,7,6,5,11]))\n",
        "\n",
        "print(getSecond([3,7,6,5,11]))\n",
        "\n",
        "print(getLast([3,7,6,5,11]))"
      ],
      "metadata": {
        "colab": {
          "base_uri": "https://localhost:8080/"
        },
        "id": "KjUzlTIQJwmd",
        "outputId": "4b96e8be-7221-4c5f-baf0-89c962ef755f"
      },
      "execution_count": null,
      "outputs": [
        {
          "output_type": "stream",
          "name": "stdout",
          "text": [
            "3\n",
            "7\n",
            "11\n"
          ]
        }
      ]
    },
    {
      "cell_type": "code",
      "source": [
        "# perintah getSum penambahan\n",
        "def getSum(myList):\n",
        "  sum=0\n",
        "  for item in myList:\n",
        "      sum = sum + item\n",
        "  return sum\n",
        "\n",
        "  #perhatikan posisi spasi pada return"
      ],
      "metadata": {
        "id": "5MQQWzHBPWyO"
      },
      "execution_count": null,
      "outputs": []
    },
    {
      "cell_type": "code",
      "source": [
        "getSum([1,2,3,4])"
      ],
      "metadata": {
        "colab": {
          "base_uri": "https://localhost:8080/"
        },
        "id": "1ABxLOcvQKxP",
        "outputId": "74a02a65-28ca-45c8-f32e-44adcde22671"
      },
      "execution_count": null,
      "outputs": [
        {
          "output_type": "execute_result",
          "data": {
            "text/plain": [
              "10"
            ]
          },
          "metadata": {},
          "execution_count": 130
        }
      ]
    },
    {
      "cell_type": "code",
      "source": [
        "getSum([1,2,3])"
      ],
      "metadata": {
        "colab": {
          "base_uri": "https://localhost:8080/"
        },
        "id": "pO5Wu2p5Q8yG",
        "outputId": "0152e99c-0ea9-47b7-8be7-e771f8a7566f"
      },
      "execution_count": null,
      "outputs": [
        {
          "output_type": "execute_result",
          "data": {
            "text/plain": [
              "6"
            ]
          },
          "metadata": {},
          "execution_count": 118
        }
      ]
    },
    {
      "cell_type": "code",
      "source": [
        "getSum([25,20,30,35])"
      ],
      "metadata": {
        "colab": {
          "base_uri": "https://localhost:8080/"
        },
        "id": "lzPtSvGNRA6d",
        "outputId": "13703727-c70d-442e-8f88-5bf5890d06f3"
      },
      "execution_count": null,
      "outputs": [
        {
          "output_type": "execute_result",
          "data": {
            "text/plain": [
              "110"
            ]
          },
          "metadata": {},
          "execution_count": 119
        }
      ]
    },
    {
      "cell_type": "code",
      "source": [
        "# perintah getKali perkalian\n",
        "def getKali(myList):\n",
        "  kali=1\n",
        "  for item in myList:\n",
        "    kali = kali * item\n",
        "  return kali"
      ],
      "metadata": {
        "id": "D-kG1OM-TD71"
      },
      "execution_count": null,
      "outputs": []
    },
    {
      "cell_type": "code",
      "source": [
        "getKali([1,2,3])"
      ],
      "metadata": {
        "colab": {
          "base_uri": "https://localhost:8080/"
        },
        "id": "_s1DjSi5qzxS",
        "outputId": "788c4ead-d9ce-48e2-b9fa-f15ad03d0519"
      },
      "execution_count": null,
      "outputs": [
        {
          "output_type": "execute_result",
          "data": {
            "text/plain": [
              "6"
            ]
          },
          "metadata": {},
          "execution_count": 5
        }
      ]
    },
    {
      "cell_type": "code",
      "source": [
        "getKali([5,15,20])"
      ],
      "metadata": {
        "colab": {
          "base_uri": "https://localhost:8080/"
        },
        "id": "Gwph_j1prJwU",
        "outputId": "6cff4b69-63e6-4539-d94c-2d61397c3f1b"
      },
      "execution_count": null,
      "outputs": [
        {
          "output_type": "execute_result",
          "data": {
            "text/plain": [
              "1500"
            ]
          },
          "metadata": {},
          "execution_count": 6
        }
      ]
    },
    {
      "cell_type": "code",
      "source": [
        "# perintah getBagi untuk pembagian\n",
        "def getBagi(myList):\n",
        "  bagi = 1\n",
        "  for item in myList:\n",
        "    bagi /= item #contoh operasi bilangan pada python yang sudah di modifikasi agar lebih simpel\n",
        "  return bagi\n"
      ],
      "metadata": {
        "id": "q2xNpaGWTlRd"
      },
      "execution_count": null,
      "outputs": []
    },
    {
      "cell_type": "code",
      "source": [
        "getBagi([1,2,3])"
      ],
      "metadata": {
        "colab": {
          "base_uri": "https://localhost:8080/"
        },
        "id": "6p1B-V3us76p",
        "outputId": "c1a64860-2cd6-4670-b430-9655ef12ebb3"
      },
      "execution_count": null,
      "outputs": [
        {
          "output_type": "execute_result",
          "data": {
            "text/plain": [
              "0.16666666666666666"
            ]
          },
          "metadata": {},
          "execution_count": 19
        }
      ]
    },
    {
      "cell_type": "code",
      "source": [],
      "metadata": {
        "id": "1YPRDKgKtau5"
      },
      "execution_count": null,
      "outputs": []
    },
    {
      "cell_type": "code",
      "source": [
        "# penambahan dalam dua array\n",
        "def getSum(myList):\n",
        "  sum=0\n",
        "  for row in myList:\n",
        "      for item in row:\n",
        "        sum = sum + item\n",
        "  return sum"
      ],
      "metadata": {
        "id": "haRFBAQ-Ts5V"
      },
      "execution_count": null,
      "outputs": []
    },
    {
      "cell_type": "code",
      "source": [
        "getSum([[1,2,5],[3,4,7]])"
      ],
      "metadata": {
        "colab": {
          "base_uri": "https://localhost:8080/"
        },
        "id": "PFkFOSVUT5dE",
        "outputId": "c9cfbe72-7455-401f-fb50-bfbc33ae2b44"
      },
      "execution_count": null,
      "outputs": [
        {
          "output_type": "execute_result",
          "data": {
            "text/plain": [
              "22"
            ]
          },
          "metadata": {},
          "execution_count": 125
        }
      ]
    },
    {
      "cell_type": "code",
      "source": [
        "getSum([[1,2],[3,4]])"
      ],
      "metadata": {
        "colab": {
          "base_uri": "https://localhost:8080/"
        },
        "id": "Xu7_MvXzUQy_",
        "outputId": "efae25d5-383f-433f-ddcf-31797ab8dcdc"
      },
      "execution_count": null,
      "outputs": [
        {
          "output_type": "execute_result",
          "data": {
            "text/plain": [
              "10"
            ]
          },
          "metadata": {},
          "execution_count": 126
        }
      ]
    },
    {
      "cell_type": "code",
      "source": [
        "# perkalian dalam dua array\n",
        "def getKali(myList):\n",
        "  kali = 1\n",
        "  for row in myList:\n",
        "      for item in row:\n",
        "        kali *= item\n",
        "  return kali"
      ],
      "metadata": {
        "id": "pILqFFybUdW9"
      },
      "execution_count": null,
      "outputs": []
    },
    {
      "cell_type": "code",
      "source": [
        "getKali([[1,2,3,4,5],[1,2,3,4,5]])"
      ],
      "metadata": {
        "colab": {
          "base_uri": "https://localhost:8080/"
        },
        "id": "NggtFIFJuLzD",
        "outputId": "a742703a-7987-4118-879f-f688c9061c15"
      },
      "execution_count": null,
      "outputs": [
        {
          "output_type": "execute_result",
          "data": {
            "text/plain": [
              "14400"
            ]
          },
          "metadata": {},
          "execution_count": 25
        }
      ]
    },
    {
      "cell_type": "code",
      "source": [
        "# Analisis Performa Notasi Big O\n",
        "def searchBinary(myList,item):\n",
        "    first = 0\n",
        "    last = len(myList)-1\n",
        "    foundFlag = False\n",
        "    while( first<=last and not foundFlag):\n",
        "        mid = (first + last)//2\n",
        "        if myList[mid] == item:\n",
        "            foundFlag = True\n",
        "        else:\n",
        "            if item < myList[mid]:\n",
        "                last = mid - 1\n",
        "            else:\n",
        "                first = mid + 1\n",
        "    return foundFlag"
      ],
      "metadata": {
        "id": "AWSOML2uZfwW"
      },
      "execution_count": null,
      "outputs": []
    },
    {
      "cell_type": "code",
      "source": [
        "searchBinary([8,9,10,100,1000,2000,3000], 10)"
      ],
      "metadata": {
        "colab": {
          "base_uri": "https://localhost:8080/"
        },
        "id": "hwd6OBIUbTlz",
        "outputId": "42ce71e0-f295-4661-c171-d134dcb56cfb"
      },
      "execution_count": null,
      "outputs": [
        {
          "output_type": "execute_result",
          "data": {
            "text/plain": [
              "True"
            ]
          },
          "metadata": {},
          "execution_count": 132
        }
      ]
    },
    {
      "cell_type": "code",
      "source": [
        "searchBinary([8,9,10,100,1000,2000,3000], 5)"
      ],
      "metadata": {
        "colab": {
          "base_uri": "https://localhost:8080/"
        },
        "id": "eOMQboCwbfrU",
        "outputId": "c8741dd7-d083-4af3-864b-cbd6ec22c0a2"
      },
      "execution_count": null,
      "outputs": [
        {
          "output_type": "execute_result",
          "data": {
            "text/plain": [
              "False"
            ]
          },
          "metadata": {},
          "execution_count": 133
        }
      ]
    }
  ]
}