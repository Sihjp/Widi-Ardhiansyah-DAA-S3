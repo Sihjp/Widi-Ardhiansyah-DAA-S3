{
  "nbformat": 4,
  "nbformat_minor": 0,
  "metadata": {
    "colab": {
      "provenance": [],
      "authorship_tag": "ABX9TyNXj0lXndYKluv3lg8Fg8R/",
      "include_colab_link": true
    },
    "kernelspec": {
      "name": "python3",
      "display_name": "Python 3"
    },
    "language_info": {
      "name": "python"
    }
  },
  "cells": [
    {
      "cell_type": "markdown",
      "metadata": {
        "id": "view-in-github",
        "colab_type": "text"
      },
      "source": [
        "<a href=\"https://colab.research.google.com/github/Sihjp/Widi-Ardhiansyah-DAA-S3/blob/main/DAA_week_5_widi_ardhiansyah.ipynb\" target=\"_parent\"><img src=\"https://colab.research.google.com/assets/colab-badge.svg\" alt=\"Open In Colab\"/></a>"
      ]
    },
    {
      "cell_type": "markdown",
      "source": [
        "Note : uts close book , tulis tangan, boleh bawa catatan tapi hanya satu lembar saja"
      ],
      "metadata": {
        "id": "Su0HW2aoCdJR"
      }
    },
    {
      "cell_type": "code",
      "execution_count": null,
      "metadata": {
        "colab": {
          "base_uri": "https://localhost:8080/"
        },
        "id": "x9NsrQgOsXpG",
        "outputId": "7ab9f532-dcf3-4c3c-fb83-b1ea6d7f321f"
      },
      "outputs": [
        {
          "output_type": "stream",
          "name": "stdout",
          "text": [
            "6\n"
          ]
        }
      ],
      "source": [
        "# inversi dalam suatu array\n",
        "# Hitung inversi\n",
        "\n",
        "def countInversion(arr):\n",
        "  result=0\n",
        "  for i in range(len(arr)):\n",
        "    for j in range(i+1,len(arr)):\n",
        "      if arr[i]>arr[j]:\n",
        "            result+=1\n",
        "  return result\n",
        "\n",
        "arr = [21, 70, 36, 14, 25]\n",
        "\n",
        "result = countInversion(arr)\n",
        "print(result)"
      ]
    },
    {
      "cell_type": "code",
      "source": [
        "# Hitung inversi dengan divide dan conquer\n",
        "\n",
        "def countInversion(arr):\n",
        "  icount=0\n",
        "  if len(arr)<=1:\n",
        "    return icount\n",
        "\n",
        "\n",
        "  mid=len(arr)//2\n",
        "  left=arr[:mid]\n",
        "  right=arr[mid:]\n",
        "  icount+=countInversion(left)\n",
        "  icount+=countInversion(right)\n",
        "  i=j=k=0\n",
        "\n",
        "  # print(left)\n",
        "  # print(right)\n",
        "  while i<len(left) and j<len(right):\n",
        "    if left[i]<right[j]:\n",
        "        arr[k]=left[i]\n",
        "        i+=1\n",
        "    else:\n",
        "      # print(left[i],right[j])\n",
        "      arr[k]=right[j]\n",
        "      j+=1\n",
        "      icount+=(mid-i)\n",
        "    k+=1\n",
        "  while i<len(left):\n",
        "      arr[k]=left[i]\n",
        "      i+=1\n",
        "      k+=1\n",
        "  while j<len(right):\n",
        "    arr[k]=right[j]\n",
        "    j+=1\n",
        "    k+=1\n",
        "\n",
        "  return icount\n",
        "\n",
        "# pengujian\n",
        "arr=[1, 20, 6, 4, 5]\n",
        "result = countInversion(arr)\n",
        "print(result)"
      ],
      "metadata": {
        "colab": {
          "base_uri": "https://localhost:8080/"
        },
        "id": "ohSi91Gz_Rsy",
        "outputId": "6db72cec-be1a-4d57-f3ce-f3963f84477c"
      },
      "execution_count": null,
      "outputs": [
        {
          "output_type": "stream",
          "name": "stdout",
          "text": [
            "5\n"
          ]
        }
      ]
    },
    {
      "cell_type": "code",
      "source": [
        "# total semua element list\n",
        "arr = [3,7,5,2,1,8,9]\n",
        "total = 0\n",
        "for i in range(len(arr)):\n",
        "    total = total+arr[i];\n",
        "\n",
        "print(total)"
      ],
      "metadata": {
        "colab": {
          "base_uri": "https://localhost:8080/"
        },
        "id": "gHXuuS6eC1BJ",
        "outputId": "cae1c856-ae1f-4797-a32a-4f6d168280ec"
      },
      "execution_count": null,
      "outputs": [
        {
          "output_type": "stream",
          "name": "stdout",
          "text": [
            "35\n"
          ]
        }
      ]
    },
    {
      "cell_type": "code",
      "source": [
        "# MinMaks (divide-conquer)\n",
        "\n",
        "def dividewoy(arr, ind, len):\n",
        "  maximum = -1;\n",
        "\n",
        "  if (ind >= len - 2):\n",
        "    if (arr[ind] > arr[ind + 1]):\n",
        "      return arr[ind];\n",
        "    else:\n",
        "      return arr[ind + 1];\n",
        "  maximum = dividewoy(arr, ind + 1, len);\n",
        "\n",
        "  if (arr[ind] > maximum):\n",
        "    return arr[ind];\n",
        "  else:\n",
        "    return maximum;"
      ],
      "metadata": {
        "id": "QG8y8VNOFqax"
      },
      "execution_count": null,
      "outputs": []
    },
    {
      "cell_type": "code",
      "source": [
        "def dividewey(arr, ind, len):\n",
        "  minimum = 0;\n",
        "  if (ind >= len - 2):\n",
        "    if (arr[ind] < arr[ind + 1]):\n",
        "      return arr[ind];\n",
        "    else:\n",
        "      return arr[ind + 1];\n",
        "  minimum = dividewey(arr, ind + 1, len);\n",
        "\n",
        "  if (arr[ind] < minimum):\n",
        "    return arr[ind];\n",
        "  else:\n",
        "    return minimum;\n",
        "\n"
      ],
      "metadata": {
        "id": "HCMvp9UbGosS"
      },
      "execution_count": null,
      "outputs": []
    },
    {
      "cell_type": "code",
      "source": [
        "if __name__ == '__main__':\n",
        "\n",
        "  minimum, maximum = 0, -1;\n",
        "\n",
        "  # array initializzation\n",
        "  arr = [4,12,23,9,21,1,35,2,24];\n",
        "\n",
        "  maximum = dividewoy(arr, 0, 9);\n",
        "  minimum = dividewey(arr, 0, 9);\n",
        "\n",
        "  print(\"The minimum number in the array is: \", minimum);\n",
        "  print(\"The maximum number in the array is: \", maximum);"
      ],
      "metadata": {
        "colab": {
          "base_uri": "https://localhost:8080/"
        },
        "id": "7JiE3N6yHZ6p",
        "outputId": "683e8cb3-12ea-411c-fe36-33325769da32"
      },
      "execution_count": null,
      "outputs": [
        {
          "output_type": "stream",
          "name": "stdout",
          "text": [
            "The minimum number in the array is:  1\n",
            "The maximum number in the array is:  35\n"
          ]
        }
      ]
    },
    {
      "cell_type": "code",
      "source": [
        "# MergeSort in python\n",
        "def mergeSort(array):\n",
        "  if len(array) > 1:\n",
        "    # r adalah point dimana arra akan dibagi menjadi dua sub-array\n",
        "    r = len(array)//2\n",
        "    L = array[:r]\n",
        "    M = array[r:]\n",
        "\n",
        "    # Sort kedua bagian\n",
        "    mergeSort(L)\n",
        "    mergeSort(M)\n",
        "\n",
        "    i = j = k = 0\n",
        "        # sampai kira mencapai salahsatu L atau M, memilih yang paling besar diantara\n",
        "\n",
        "# Note : (Kesalahan berfikir diluar nalar while di luar loop)\n",
        "\n",
        "    # element L dan M dan menaruh bagian tersebut dalam posisi yang tepat\n",
        "    while i < len(L) and j < len(M):\n",
        "        if L[i] < M[j]:\n",
        "          array[k] = L[i]\n",
        "          i += 1\n",
        "        else:\n",
        "          array[k] = M[j]\n",
        "          j += 1\n",
        "        k += 1\n",
        "\n",
        "    # When we run out of elements in either L or M, pisk up the remaining elements and put in A[p..r]\n",
        "    while i < len(L):\n",
        "        array[k] = L[i]\n",
        "        i += 1\n",
        "        k += 1\n",
        "\n",
        "    while j < len(M):\n",
        "        array[k] = M[j]\n",
        "        j += 1\n",
        "        k += 1"
      ],
      "metadata": {
        "id": "qc2mGIlQNf9i"
      },
      "execution_count": null,
      "outputs": []
    },
    {
      "cell_type": "code",
      "source": [
        "# Print the array\n",
        "def printList(array):\n",
        "  for i in range(len(array)):\n",
        "    print(array[i], end=\" \")\n",
        "  print()\n",
        "\n",
        "# Driver program\n",
        "if __name__ == '__main__':\n",
        "  array = [4,12,23,9,21,1,35,2,24]\n",
        "\n",
        "  mergeSort(array)\n",
        "\n",
        "  print(\"Sorted array is : \")\n",
        "  printList(array)"
      ],
      "metadata": {
        "colab": {
          "base_uri": "https://localhost:8080/"
        },
        "id": "khwAtqPpOXgi",
        "outputId": "6697828a-267e-4155-c844-8836a85a51cc"
      },
      "execution_count": null,
      "outputs": [
        {
          "output_type": "stream",
          "name": "stdout",
          "text": [
            "Sorted array is : \n",
            "1 2 4 9 12 21 23 24 35 \n"
          ]
        }
      ]
    },
    {
      "cell_type": "code",
      "source": [
        "# Function to find the partition position\n",
        "def partition(array, low, high):\n",
        "\n",
        "    # choose the rightmost element as pivot\n",
        "    pivot = array[high]\n",
        "\n",
        "    # pointer for greater element\n",
        "    i = low - 1\n",
        "\n",
        "    #  traverse through all elements\n",
        "    # compare each element with pivot\n",
        "    for j in range(low, high):\n",
        "        if array[j] <= pivot:\n",
        "\n",
        "            # If element smaller than pivot is found\n",
        "            # swap it with the greater element pointed by i\n",
        "            i = i + 1\n",
        "\n",
        "            # Swapping element at i with element at j\n",
        "            (array[i], array[j]) = (array[j], array[i])\n",
        "\n",
        "    # Swap the pivot element with the greater element specified by i\n",
        "    (array[i + 1], array[high]) = (array[high], array[i + 1])\n",
        "\n",
        "    # Return the position from where partition is done\n",
        "    return i + 1"
      ],
      "metadata": {
        "colab": {
          "base_uri": "https://localhost:8080/"
        },
        "id": "kyeZHpZHRWUr",
        "outputId": "b9eaa5f7-a466-4565-c368-60a0c50a361f"
      },
      "execution_count": null,
      "outputs": [
        {
          "output_type": "stream",
          "name": "stdout",
          "text": [
            "Unsorted Array\n",
            "[4, 12, 23, 9, 21, 1, 35, 2, 24]\n",
            "Sorted Array in ascending order: \n",
            "[4, 12, 23, 9, 21, 1, 35, 2, 24]\n"
          ]
        }
      ]
    },
    {
      "cell_type": "code",
      "source": [
        "# function to perform quicksort\n",
        "def quickSort(aray, low, high):\n",
        "  if low < high:\n",
        "\n",
        "    # Find pivot element such that\n",
        "    # element smaller than pivot are on the left\n",
        "    # element greater than pivot are on the right\n",
        "    pi = partition(array, low, high)\n",
        "\n",
        "    # Recursive call on the left of pivot\n",
        "    quickSort(array, low, pi - 1)\n",
        "\n",
        "    # Recursive call on the right of pivot\n",
        "    quickSort(array, pi + 1, high)\n"
      ],
      "metadata": {
        "id": "ud9BdPFPVoJr"
      },
      "execution_count": null,
      "outputs": []
    },
    {
      "cell_type": "code",
      "source": [
        "data = [4,12,23,9,21,1,35,2,24]\n",
        "print(\"Unsorted Array\")\n",
        "print(data)\n",
        "\n",
        "size = len(data)\n",
        "\n",
        "quickSort(data, 0, size - 1)\n",
        "\n",
        "print('Sorted Array in ascending order: ')\n",
        "print(data)\n",
        "# Bingung woy hasilnya sama"
      ],
      "metadata": {
        "colab": {
          "base_uri": "https://localhost:8080/"
        },
        "id": "kjHMrcx6bCl0",
        "outputId": "9d04c2fd-ff6b-49dd-f60f-a5b1ec83a17f"
      },
      "execution_count": null,
      "outputs": [
        {
          "output_type": "stream",
          "name": "stdout",
          "text": [
            "Unsorted Array\n",
            "[4, 12, 23, 9, 21, 1, 35, 2, 24]\n",
            "Sorted Array in ascending order: \n",
            "[4, 12, 23, 9, 21, 1, 35, 2, 24]\n"
          ]
        }
      ]
    },
    {
      "cell_type": "code",
      "source": [
        "# Maximum Subarray Sum\n",
        "# Tanpa divide dan conquer\n",
        "\n",
        "def maxSubSum(arr):\n",
        "  max_jauh=0\n",
        "  max_berakhir=0\n",
        "  for i in range(len(arr)):\n",
        "    max_berakhir+=arr[i]\n",
        "    if max_berakhir > max_jauh:\n",
        "      max_jauh = max_berakhir\n",
        "    if max_berakhir < 0:\n",
        "      max_berakhir = 0\n",
        "  return max_jauh"
      ],
      "metadata": {
        "id": "R46ObXO4YFzm"
      },
      "execution_count": null,
      "outputs": []
    },
    {
      "cell_type": "code",
      "source": [
        "arr = [-2, -5, 6, -2, -3, 1, 5, -6]\n",
        "result = maxSubSum(arr)\n",
        "print(result)"
      ],
      "metadata": {
        "colab": {
          "base_uri": "https://localhost:8080/"
        },
        "id": "VoHSAgJAY8sT",
        "outputId": "048403fe-334c-4940-ed77-753a185a26c2"
      },
      "execution_count": null,
      "outputs": [
        {
          "output_type": "stream",
          "name": "stdout",
          "text": [
            "7\n"
          ]
        }
      ]
    },
    {
      "cell_type": "code",
      "source": [
        "# Maximum Subarray Sum\n",
        "# Menggunakan divide dan conquer\n",
        "\n",
        "def maxCrossingSum(arr, low, mid, high):\n",
        "    result=0; leftSum=float('-infinity')\n",
        "    for i in range(mid, low-1, -1):\n",
        "      result+=arr[i]\n",
        "      if result>leftSum:\n",
        "        leftSum=result\n",
        "    result=0; rightSum=float('-infinity')\n",
        "    for i in range(mid+1, high+1):\n",
        "      result+=arr[i]\n",
        "      if result>rightSum:\n",
        "        rightSum=result\n",
        "    return leftSum+rightSum\n",
        "\n",
        "def maxSum(arr, low, high):\n",
        "    if low==high:\n",
        "      return arr[low]\n",
        "\n",
        "    mid=(low+high)//2\n",
        "    return max(maxSum(arr,low,mid), maxSum(arr,mid+1,high),maxCrossingSum(arr,low,mid,high))\n",
        "    # ^ yang ini tadi ketingalan maka terjadi error"
      ],
      "metadata": {
        "id": "SCqAzvYBdoID"
      },
      "execution_count": null,
      "outputs": []
    },
    {
      "cell_type": "code",
      "source": [
        "arr = [-2,-5,6,-2,-3,1,5,-6]\n",
        "result=maxSum(arr,0,len(arr)-1)\n",
        "print(result)"
      ],
      "metadata": {
        "colab": {
          "base_uri": "https://localhost:8080/"
        },
        "id": "rHqHQgFbfCgM",
        "outputId": "23089c19-52a9-4dc9-fdc6-a982577c5c78"
      },
      "execution_count": null,
      "outputs": [
        {
          "output_type": "stream",
          "name": "stdout",
          "text": [
            "7\n"
          ]
        }
      ]
    },
    {
      "cell_type": "code",
      "source": [
        "# Longest common prefix\n",
        "\n",
        "def longestCommonPrefix( a):\n",
        "\n",
        "    size = len(a)\n",
        "\n",
        "    # if size is 0, retur empty string\n",
        "    if (size == 0):\n",
        "        return \"\"\n",
        "\n",
        "    if (size == 1):\n",
        "        return a[0]\n",
        "\n",
        "    # sort the array of strings\n",
        "    a.sort()\n",
        "\n",
        "    # find the minimum length from\n",
        "    # first and last string\n",
        "    end = min(len(a[0]), len(a[size - 1]))\n",
        "\n",
        "    # find the common prefix between\n",
        "    # the first and last string\n",
        "    i = 0\n",
        "    while (i < end and a[0][i] == a[size - 1][i]):\n",
        "        i += 1\n",
        "\n",
        "    pre = a[0][0: i]\n",
        "    return pre"
      ],
      "metadata": {
        "id": "34rtno3lhPKk"
      },
      "execution_count": null,
      "outputs": []
    },
    {
      "cell_type": "code",
      "source": [
        "arr=[\"wilifwilofwoilah\",\"wilif\",\"wilof\",\"wilah\"]\n",
        "result = longestCommonPrefix(arr)\n",
        "print(result)"
      ],
      "metadata": {
        "colab": {
          "base_uri": "https://localhost:8080/"
        },
        "id": "T2koeXo4icMs",
        "outputId": "f2912460-73d3-4458-b821-0d250a5fc530"
      },
      "execution_count": null,
      "outputs": [
        {
          "output_type": "stream",
          "name": "stdout",
          "text": [
            "wil\n"
          ]
        }
      ]
    },
    {
      "cell_type": "code",
      "source": [
        "arr=[\"dih\",\"diuh\",\"dior\"]\n",
        "result = longestCommonPrefix(arr)\n",
        "print(result)"
      ],
      "metadata": {
        "colab": {
          "base_uri": "https://localhost:8080/"
        },
        "id": "LyFFU5TGi_kc",
        "outputId": "0f098f0c-41be-4ae5-928a-4fb7ca378dc7"
      },
      "execution_count": null,
      "outputs": [
        {
          "output_type": "stream",
          "name": "stdout",
          "text": [
            "di\n"
          ]
        }
      ]
    },
    {
      "cell_type": "code",
      "source": [
        "# Median dair dua array urut sama ukuran\n",
        "# Median dari dua aray dengan divide dan conquer\n",
        "\n",
        "def medianOfArray(arr1,arr2,n):\n",
        "    m1=-1 #first number\n",
        "    m2=-1 #second number\n",
        "    count=0\n",
        "    i=j=0\n",
        "    while count<n+1:\n",
        "      count+=1\n",
        "      if i==n:# i==5 index error if arr1[i]<arr2[j] is checked\n",
        "          m1=m2\n",
        "          m2=arr2[0]\n",
        "          break\n",
        "      if j==n:\n",
        "          m1=m2\n",
        "          m2=arr1[0]\n",
        "          break\n",
        "      if arr1[i]<arr2[j]:\n",
        "          m1=m2\n",
        "          m2=arr1[i]\n",
        "          i+=1\n",
        "      else:\n",
        "          m1=m2\n",
        "          m2=arr2[j]\n",
        "          j+=1\n",
        "    return (m1+m2)//2\n"
      ],
      "metadata": {
        "id": "qOCNK7E_kKpM"
      },
      "execution_count": null,
      "outputs": []
    },
    {
      "cell_type": "code",
      "source": [
        "arr1=[1,12,15,26,38]\n",
        "arr2=[2,13,17,30,45]"
      ],
      "metadata": {
        "id": "Dc1O6RUllbRm"
      },
      "execution_count": null,
      "outputs": []
    },
    {
      "cell_type": "code",
      "source": [
        "print(medianOfArray(arr1,arr2,len(arr1)))"
      ],
      "metadata": {
        "colab": {
          "base_uri": "https://localhost:8080/"
        },
        "id": "h2gjBA1vljtV",
        "outputId": "2d2a9d93-2bb8-4b21-c2f4-d74e64a53756"
      },
      "execution_count": null,
      "outputs": [
        {
          "output_type": "stream",
          "name": "stdout",
          "text": [
            "16\n"
          ]
        }
      ]
    },
    {
      "cell_type": "code",
      "source": [
        "# Median dua array urut berbeda ukuran\n",
        "def solution(arr):\n",
        "    n = len(arr)\n",
        "    # If length of array is even\n",
        "    if n % 2 == 0:\n",
        "      z = n // 2\n",
        "      e = arr[z]\n",
        "      q = arr[z - 1]\n",
        "      ans = (e + q) / 2\n",
        "      return ans\n",
        "    # If length of array is odd\n",
        "    else:\n",
        "        z = n // 2\n",
        "        ans = arr[z]\n",
        "        return ans"
      ],
      "metadata": {
        "id": "P-5QS2ZuvmGI"
      },
      "execution_count": 2,
      "outputs": []
    },
    {
      "cell_type": "code",
      "source": [
        "arr1 = [-5, 3, 6, 12, 15]\n",
        "arr2 = [-12, -10, -6, -3, 4, 10]\n",
        "\n",
        "# Concatenating the two arrays\n",
        "arr3 = arr1 + arr2\n",
        "# Sorting the resultant array\n",
        "arr3.sort()\n",
        "print(\"Median = \", solution(arr3))"
      ],
      "metadata": {
        "colab": {
          "base_uri": "https://localhost:8080/"
        },
        "id": "51wTyAzWwM0n",
        "outputId": "2723bf9d-1505-4b13-c1ad-4d7002abb1dc"
      },
      "execution_count": 3,
      "outputs": [
        {
          "output_type": "stream",
          "name": "stdout",
          "text": [
            "Median =  3\n"
          ]
        }
      ]
    },
    {
      "cell_type": "code",
      "source": [
        "# Floor in sorted array\n",
        "\n",
        "def floorSorted(arr, low, high, x):\n",
        "  # print(low, high)\n",
        "    if low > high:\n",
        "        return -1\n",
        "\n",
        "    if arr[low] > x:\n",
        "        # print(\"inside\")\n",
        "        return -1\n",
        "\n",
        "    if arr[high] <= x:\n",
        "        return arr[high]\n",
        "\n",
        "    mid = (low + high)//2\n",
        "\n",
        "    if arr[mid] == x:\n",
        "        return arr[mid]\n",
        "\n",
        "    if mid>0 and x>=arr[mid-1] and arr[mid]>x:\n",
        "        return arr[mid-1]\n",
        "\n",
        "    if mid<high and x<arr[mid+1] and x>=arr[mid]:\n",
        "        return arr[mid]\n",
        "\n",
        "    if x>arr[mid]:\n",
        "        return floorSorted(arr, mid+1, high, x)\n",
        "    else:\n",
        "        return floorSorted(arr, low, mid-1, x)"
      ],
      "metadata": {
        "id": "UgPUM1j2xF2I"
      },
      "execution_count": 4,
      "outputs": []
    },
    {
      "cell_type": "code",
      "source": [
        "arr = [1,2,8,10,12,14,19]\n",
        "x=5\n",
        "print(floorSorted(arr,0,len(arr)-1,x))"
      ],
      "metadata": {
        "colab": {
          "base_uri": "https://localhost:8080/"
        },
        "id": "cDXO4_palp2g",
        "outputId": "2b4b492e-2fd6-45aa-d276-b346af1a5c47"
      },
      "execution_count": 5,
      "outputs": [
        {
          "output_type": "stream",
          "name": "stdout",
          "text": [
            "2\n"
          ]
        }
      ]
    },
    {
      "cell_type": "code",
      "source": [
        "# Mencari nilai terdekat dengan metode divide dan conquer\n",
        "\n",
        "def closestNumber(arr, low, high, x):\n",
        "    if low>high:\n",
        "        return -1\n",
        "\n",
        "    if arr[high] <= x:\n",
        "        return arr[high]\n",
        "\n",
        "    if arr[low] >= x:\n",
        "        return arr[low]\n",
        "\n",
        "    mid = (low+high) // 2\n",
        "\n",
        "    if arr[mid] == x:\n",
        "        return arr[mid]\n",
        "\n",
        "    abs_mid = abs(arr[mid]-x)\n",
        "\n",
        "    if mid > 0:\n",
        "        abs_left = abs(arr[mid-1]-x)\n",
        "        if abs_left < abs_mid:\n",
        "            return closestNumber(arr, low, mid-1, x)\n",
        "    if mid < high:\n",
        "        abs_right = abs(arr[mid+1]-x)\n",
        "        if abs_right < abs_mid:\n",
        "            return closestNumber(arr, mid+1, high, x)\n",
        "    # print ('after')\n",
        "    return arr[mid]"
      ],
      "metadata": {
        "id": "RhROk6vEpOQm"
      },
      "execution_count": 7,
      "outputs": []
    },
    {
      "cell_type": "code",
      "source": [
        "arr=[2, 5, 6, 7, 8, 8, 9]\n",
        "x = 9\n",
        "print(closestNumber(arr, 0, len(arr)-1, x))"
      ],
      "metadata": {
        "colab": {
          "base_uri": "https://localhost:8080/"
        },
        "id": "GYlNuYyBtlnM",
        "outputId": "67b53347-5fda-47f7-bf26-88958ebe6f53"
      },
      "execution_count": 8,
      "outputs": [
        {
          "output_type": "stream",
          "name": "stdout",
          "text": [
            "9\n"
          ]
        }
      ]
    },
    {
      "cell_type": "code",
      "source": [
        "# Implementasi Algoritma mencari nilai terdekat suatu angka dalam suatu array\n",
        "\n",
        "def find_terdekat(lst, k):\n",
        "    lst.sort()\n",
        "    closest_num = lst[0]\n",
        "    for num in lst:\n",
        "        if abs(num - k) < abs(closest_num - k):\n",
        "            closest_num = num\n",
        "        if num > k:\n",
        "            break\n",
        "    return closest_num"
      ],
      "metadata": {
        "id": "xPTsUh99t-Y3"
      },
      "execution_count": 9,
      "outputs": []
    },
    {
      "cell_type": "code",
      "source": [
        "lst = [3.64, 5.2, 9.42, 9.35, 8.5, 8]\n",
        "k = 9.1\n",
        "print(find_terdekat(lst, k))"
      ],
      "metadata": {
        "colab": {
          "base_uri": "https://localhost:8080/"
        },
        "id": "mkUnHeivurVL",
        "outputId": "55217ec5-34fd-445d-a9f8-35ef960d7ad0"
      },
      "execution_count": 10,
      "outputs": [
        {
          "output_type": "stream",
          "name": "stdout",
          "text": [
            "9.35\n"
          ]
        }
      ]
    },
    {
      "cell_type": "code",
      "source": [
        "lst = [2,5,5,7,8,8,9]\n",
        "k = 6\n",
        "print(find_terdekat(lst, k))"
      ],
      "metadata": {
        "colab": {
          "base_uri": "https://localhost:8080/"
        },
        "id": "t9TjLJPnvAWo",
        "outputId": "3d28f36c-e0d3-4ce3-b356-d902a9fd7189"
      },
      "execution_count": 11,
      "outputs": [
        {
          "output_type": "stream",
          "name": "stdout",
          "text": [
            "5\n"
          ]
        }
      ]
    },
    {
      "cell_type": "code",
      "source": [
        "# Mencari Fixed Point dengan metode divide dan conquer\n",
        "\n",
        "def fixedPoint(arr, low, high):\n",
        "    if low>high:\n",
        "      return -1\n",
        "    if arr[high]==high:\n",
        "        return arr[high]\n",
        "    if arr[low]==low:\n",
        "        return arr[low]\n",
        "    mid=(low+high)//2\n",
        "    if arr[mid]==mid:\n",
        "        return arr[mid]\n",
        "    if mid>arr[mid]:\n",
        "        return fixedPoint(arr,mid+1,high)\n",
        "    else:\n",
        "        return fixedPoint(arr,low,mid-1)"
      ],
      "metadata": {
        "id": "irZzy_yDvM7y"
      },
      "execution_count": 12,
      "outputs": []
    },
    {
      "cell_type": "code",
      "source": [
        "arr=[9,1,4,5,2]\n",
        "print(fixedPoint(arr,0,len(arr)-1))"
      ],
      "metadata": {
        "colab": {
          "base_uri": "https://localhost:8080/"
        },
        "id": "Q2Wh0HqOwQUR",
        "outputId": "0bc5dfa1-8bbb-4ca4-b055-e86c2836da05"
      },
      "execution_count": 13,
      "outputs": [
        {
          "output_type": "stream",
          "name": "stdout",
          "text": [
            "1\n"
          ]
        }
      ]
    }
  ]
}