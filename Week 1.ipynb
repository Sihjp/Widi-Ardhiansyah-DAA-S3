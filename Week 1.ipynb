{
  "nbformat": 4,
  "nbformat_minor": 0,
  "metadata": {
    "colab": {
      "provenance": [],
      "authorship_tag": "ABX9TyNwqsk5AxvGt4SFNXLYlMqL",
      "include_colab_link": true
    },
    "kernelspec": {
      "name": "python3",
      "display_name": "Python 3"
    },
    "language_info": {
      "name": "python"
    }
  },
  "cells": [
    {
      "cell_type": "markdown",
      "metadata": {
        "id": "view-in-github",
        "colab_type": "text"
      },
      "source": [
        "<a href=\"https://colab.research.google.com/github/Sihjp/Widi-Ardhiansyah-DAA-S3/blob/main/Week%201.ipynb\" target=\"_parent\"><img src=\"https://colab.research.google.com/assets/colab-badge.svg\" alt=\"Open In Colab\"/></a>"
      ]
    },
    {
      "cell_type": "markdown",
      "source": [
        "Step 1 Jika n = 0, return nilai m sebagai hasil dan stop.\n",
        "\n",
        "Step 2 Bagi nilai m dengan n, masukan nilai sisanya ke r.\n",
        "\n",
        "Jika tidak, kembali ke Step 2.\n",
        "\n",
        "Step 3 Masukan nilai n ke m dan nilai r ke n. Kembali ke Step 1.\n",
        "\n",
        "```\n",
        "# This is formatted as code\n",
        "Pseudocode:\n",
        "While n ≠ 0 do\n",
        "r ← m mod n\n",
        "m ← n\n",
        "n ← r return m\n",
        "```\n",
        "\n"
      ],
      "metadata": {
        "id": "2m11Jlm7PY-J"
      }
    },
    {
      "cell_type": "code",
      "source": [
        "def euclid_gcd(m, n):\n",
        "    while n != 0:\n",
        "        m, n = n, m % n\n",
        "    return m\n",
        "\n",
        "# Menggunakan algoritma Euclid untuk mencari GCD dari 60 dan 24\n",
        "m = 60\n",
        "n = 24\n",
        "result = euclid_gcd(m, n)\n",
        "print(f\"GCD dari {m} dan {n} adalah {result}\")\n"
      ],
      "metadata": {
        "colab": {
          "base_uri": "https://localhost:8080/"
        },
        "id": "1fNwUznuQq_z",
        "outputId": "af76a213-c529-497c-be78-134bf508fe1c"
      },
      "execution_count": null,
      "outputs": [
        {
          "output_type": "stream",
          "name": "stdout",
          "text": [
            "GCD dari 60 dan 24 adalah 12\n"
          ]
        }
      ]
    },
    {
      "cell_type": "markdown",
      "source": [
        "Cari nilai KPK dari 3 dan 4!\n",
        "Tentukan algoritma dan pseudocodenya!"
      ],
      "metadata": {
        "id": "dZGSEisZUaCH"
      }
    },
    {
      "cell_type": "code",
      "source": [],
      "metadata": {
        "id": "Z5aFQsXDofeL"
      },
      "execution_count": null,
      "outputs": []
    },
    {
      "cell_type": "markdown",
      "source": [
        "Ketik di notepad anda:\n",
        "\n",
        "Fungsi untuk menukar dua variabel x dan y:\n",
        "\n",
        "define swap(x, y)\n",
        "\n",
        "buffer = x\n",
        "\n",
        "x = y\n",
        "\n",
        "y = buffer"
      ],
      "metadata": {
        "id": "H84QxrFYopCp"
      }
    },
    {
      "cell_type": "code",
      "source": [],
      "metadata": {
        "id": "56YIXdllowfB"
      },
      "execution_count": null,
      "outputs": []
    },
    {
      "cell_type": "markdown",
      "source": [
        "Ada 2 buah: manggis dan pisang.\n",
        "\n",
        "Manggis di piring 1, Pisang di piring 2.\n",
        "\n",
        "Piring 3 kosong.\n",
        "\n",
        "Buatlah algoritma dan pseudocode untuk menukar manggis ke piring 2 dan pisang ke piring 1!"
      ],
      "metadata": {
        "id": "r6iSk1k1oy0Y"
      }
    },
    {
      "cell_type": "code",
      "source": [],
      "metadata": {
        "id": "tw-gObnUpCvQ"
      },
      "execution_count": null,
      "outputs": []
    },
    {
      "cell_type": "markdown",
      "source": [],
      "metadata": {
        "id": "lT47bgShpHbR"
      }
    }
  ]
}