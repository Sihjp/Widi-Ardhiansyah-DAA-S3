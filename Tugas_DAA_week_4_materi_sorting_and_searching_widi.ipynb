{
  "nbformat": 4,
  "nbformat_minor": 0,
  "metadata": {
    "colab": {
      "provenance": [],
      "authorship_tag": "ABX9TyMVjqBPiuQ/HU8perqFqmQ0",
      "include_colab_link": true
    },
    "kernelspec": {
      "name": "python3",
      "display_name": "Python 3"
    },
    "language_info": {
      "name": "python"
    }
  },
  "cells": [
    {
      "cell_type": "markdown",
      "metadata": {
        "id": "view-in-github",
        "colab_type": "text"
      },
      "source": [
        "<a href=\"https://colab.research.google.com/github/Sihjp/Widi-Ardhiansyah-DAA-S3/blob/main/Tugas_DAA_week_4_materi_sorting_and_searching_widi.ipynb\" target=\"_parent\"><img src=\"https://colab.research.google.com/assets/colab-badge.svg\" alt=\"Open In Colab\"/></a>"
      ]
    },
    {
      "cell_type": "code",
      "execution_count": null,
      "metadata": {
        "id": "7SVY-c3sVeqd"
      },
      "outputs": [],
      "source": [
        "# swap function\n",
        "var1 = 1\n",
        "var2 = 2\n",
        "var1,var2 = var2,var1"
      ]
    },
    {
      "cell_type": "code",
      "source": [
        "print(var1,var2)"
      ],
      "metadata": {
        "colab": {
          "base_uri": "https://localhost:8080/"
        },
        "id": "QCR-tLLXbsSi",
        "outputId": "972f3a22-7f17-46ec-83eb-08bb839a6689"
      },
      "execution_count": null,
      "outputs": [
        {
          "output_type": "stream",
          "name": "stdout",
          "text": [
            "2 1\n"
          ]
        }
      ]
    },
    {
      "cell_type": "code",
      "source": [
        "# fungsi swap denagan variabel ketiga\n",
        "var1 = 1\n",
        "var2 = 2\n",
        "var3 = 3\n",
        "var1,var2,var3 = var3,var1,var2\n",
        "print(var1,var2,var3)"
      ],
      "metadata": {
        "colab": {
          "base_uri": "https://localhost:8080/"
        },
        "id": "Q0Eckcw4bz20",
        "outputId": "6fa2e659-f688-49f7-b068-d9769856b8d3"
      },
      "execution_count": null,
      "outputs": [
        {
          "output_type": "stream",
          "name": "stdout",
          "text": [
            "3 1 2\n"
          ]
        }
      ]
    },
    {
      "cell_type": "code",
      "source": [
        "# Bubble sort\n",
        "list = [25,21,22,24,23,27,26]\n",
        "# Modifikasi sesuai angka favorit anda\n",
        "\n",
        "# proses penukaran bubble sort\n",
        "lastElementIndex = len(list)-1\n",
        "print(0,list)\n",
        "for idx in range(lastElementIndex):\n",
        "    if list[idx]>list[idx+1]:\n",
        "      list[idx],list[idx+1]=list[idx+1],list[idx]\n",
        "    print(idx+1,list)"
      ],
      "metadata": {
        "colab": {
          "base_uri": "https://localhost:8080/"
        },
        "id": "_mTpL6PlcIWq",
        "outputId": "8e24d181-7bf4-44d8-feb6-846d657c3302"
      },
      "execution_count": null,
      "outputs": [
        {
          "output_type": "stream",
          "name": "stdout",
          "text": [
            "0 [25, 21, 22, 24, 23, 27, 26]\n",
            "1 [21, 25, 22, 24, 23, 27, 26]\n",
            "2 [21, 22, 25, 24, 23, 27, 26]\n",
            "3 [21, 22, 24, 25, 23, 27, 26]\n",
            "4 [21, 22, 24, 23, 25, 27, 26]\n",
            "5 [21, 22, 24, 23, 25, 27, 26]\n",
            "6 [21, 22, 24, 23, 25, 26, 27]\n"
          ]
        }
      ]
    },
    {
      "cell_type": "code",
      "source": [
        "def BubbleSort(list):\n",
        "  # Echange the elements to arrange in order\n",
        "      lastElementIndex = len(list)-1\n",
        "      for passNo in range(lastElementIndex,0,-1):\n",
        "        for idx in range(passNo):\n",
        "          if list[idx]>list[idx+1]:\n",
        "            list[idx],list[idx+1]=list[idx+1],list[idx]\n",
        "      return list"
      ],
      "metadata": {
        "id": "0jOBblFxd38i"
      },
      "execution_count": null,
      "outputs": []
    },
    {
      "cell_type": "code",
      "source": [
        "list"
      ],
      "metadata": {
        "colab": {
          "base_uri": "https://localhost:8080/"
        },
        "id": "AIwWfwbZhzNb",
        "outputId": "7c722292-3f01-49a6-9ddd-3cb9af46a139"
      },
      "execution_count": null,
      "outputs": [
        {
          "output_type": "execute_result",
          "data": {
            "text/plain": [
              "[21, 22, 24, 23, 25, 26, 27]"
            ]
          },
          "metadata": {},
          "execution_count": 9
        }
      ]
    },
    {
      "cell_type": "code",
      "source": [
        "def BubbleSort(list):\n",
        "  # Echange the elements to arrange in order\n",
        "      lastElementIndex = len(list)-1\n",
        "      for passNo in range(lastElementIndex,0,-1):\n",
        "        for idx in range(passNo):\n",
        "          if list[idx]>list[idx+1]:\n",
        "            list[idx],list[idx+1]=list[idx+1],list[idx]\n",
        "      return list"
      ],
      "metadata": {
        "id": "4-sAvTlch18h"
      },
      "execution_count": 3,
      "outputs": []
    },
    {
      "cell_type": "code",
      "source": [
        "# masukkan angka dengan urutan lainnya\n",
        "\n",
        "list = [25,21,22,24,23,27,26]"
      ],
      "metadata": {
        "id": "K-WYdBBUi0RH"
      },
      "execution_count": null,
      "outputs": []
    },
    {
      "cell_type": "code",
      "source": [
        "BubbleSort(list)"
      ],
      "metadata": {
        "colab": {
          "base_uri": "https://localhost:8080/"
        },
        "id": "aVjsi4wUi6nB",
        "outputId": "379cfe8b-682f-45e4-9646-b711e1685717"
      },
      "execution_count": null,
      "outputs": [
        {
          "output_type": "execute_result",
          "data": {
            "text/plain": [
              "[21, 22, 23, 24, 25, 26, 27]"
            ]
          },
          "metadata": {},
          "execution_count": 12
        }
      ]
    },
    {
      "cell_type": "code",
      "source": [
        "list"
      ],
      "metadata": {
        "colab": {
          "base_uri": "https://localhost:8080/"
        },
        "id": "SxpKDYBRi-n7",
        "outputId": "9654bec6-4f43-476a-f592-7e10366b06ed"
      },
      "execution_count": null,
      "outputs": [
        {
          "output_type": "execute_result",
          "data": {
            "text/plain": [
              "[21, 22, 23, 24, 25, 26, 27]"
            ]
          },
          "metadata": {},
          "execution_count": 13
        }
      ]
    },
    {
      "cell_type": "code",
      "source": [
        "list = [100, 20, 60, 90, 40, 30, 10]"
      ],
      "metadata": {
        "id": "FfkwEWRTjESJ"
      },
      "execution_count": null,
      "outputs": []
    },
    {
      "cell_type": "code",
      "source": [
        "list = [100, 20, 60, 90, 40, 30, 10]  # Inisialisasi daftar bilangan yang akan diurutkan\n",
        "\n",
        "for i in range(len(list)-1):  # Melakukan perulangan sebanyak panjang daftar dikurangi 1\n",
        "    for j in range(len(list)-1-i):  # Melakukan perulangan sebanyak elemen yang belum diurutkan\n",
        "        if list[j] > list[j+1]:  # Membandingkan elemen yang bersebelahan\n",
        "            list[j], list[j+1] = list[j+1], list[j]  # Menukar posisi elemen jika diperlukan\n",
        "\n",
        "print(list)  # Mencetak daftar yang telah diurutkan"
      ],
      "metadata": {
        "colab": {
          "base_uri": "https://localhost:8080/"
        },
        "id": "RCKu5fowkq7j",
        "outputId": "6986de2e-2653-4355-9fd2-48fb198a496a"
      },
      "execution_count": null,
      "outputs": [
        {
          "output_type": "stream",
          "name": "stdout",
          "text": [
            "[10, 20, 30, 40, 60, 90, 100]\n"
          ]
        }
      ]
    },
    {
      "cell_type": "code",
      "source": [
        "list = [100, 20, 60, 90, 40, 30, 10]\n",
        "\n",
        "for i in range(len(list)-1):\n",
        "    for j in range(len(list)-1-i):\n",
        "        if list[j] > list[j+1]:\n",
        "            list[j], list[j+1] = list[j+1], list[j]\n",
        "        print(list)  # Menampilkan langkah pengurutan\n",
        "\n",
        "print(\"Hasil Bubble Sort:\", list)"
      ],
      "metadata": {
        "colab": {
          "base_uri": "https://localhost:8080/"
        },
        "id": "4js2FGCMIRR2",
        "outputId": "f5aef507-12d0-4320-b1da-bdcbaafa0e6e"
      },
      "execution_count": null,
      "outputs": [
        {
          "output_type": "stream",
          "name": "stdout",
          "text": [
            "[20, 100, 60, 90, 40, 30, 10]\n",
            "[20, 60, 100, 90, 40, 30, 10]\n",
            "[20, 60, 90, 100, 40, 30, 10]\n",
            "[20, 60, 90, 40, 100, 30, 10]\n",
            "[20, 60, 90, 40, 30, 100, 10]\n",
            "[20, 60, 90, 40, 30, 10, 100]\n",
            "[20, 60, 90, 40, 30, 10, 100]\n",
            "[20, 60, 90, 40, 30, 10, 100]\n",
            "[20, 60, 40, 90, 30, 10, 100]\n",
            "[20, 60, 40, 30, 90, 10, 100]\n",
            "[20, 60, 40, 30, 10, 90, 100]\n",
            "[20, 60, 40, 30, 10, 90, 100]\n",
            "[20, 40, 60, 30, 10, 90, 100]\n",
            "[20, 40, 30, 60, 10, 90, 100]\n",
            "[20, 40, 30, 10, 60, 90, 100]\n",
            "[20, 40, 30, 10, 60, 90, 100]\n",
            "[20, 30, 40, 10, 60, 90, 100]\n",
            "[20, 30, 10, 40, 60, 90, 100]\n",
            "[20, 30, 10, 40, 60, 90, 100]\n",
            "[20, 10, 30, 40, 60, 90, 100]\n",
            "[10, 20, 30, 40, 60, 90, 100]\n",
            "Hasil Bubble Sort: [10, 20, 30, 40, 60, 90, 100]\n"
          ]
        }
      ]
    },
    {
      "cell_type": "code",
      "source": [
        "# Insertion sort\n",
        "def InsertionSort(list):\n",
        "    for i in range(1, len(list)):\n",
        "        j = i-1\n",
        "        next = list[i]\n",
        "#   Compare the current element with next one\n",
        "\n",
        "        while (list[j] > next) and (j >= 0 ):\n",
        "            list[j+1] = list[j]\n",
        "            j=j-1\n",
        "        list[j+1] = next\n",
        "    return list"
      ],
      "metadata": {
        "id": "7PvxbC3DLqqy"
      },
      "execution_count": null,
      "outputs": []
    },
    {
      "cell_type": "code",
      "source": [
        "# masukan angka dengan urutan lainnya\n",
        "\n",
        "list = [35,31,32,34,33,37,36]"
      ],
      "metadata": {
        "id": "y2SdqI2IOBhe"
      },
      "execution_count": null,
      "outputs": []
    },
    {
      "cell_type": "code",
      "source": [
        "list"
      ],
      "metadata": {
        "colab": {
          "base_uri": "https://localhost:8080/"
        },
        "id": "wqVN3OosOMNm",
        "outputId": "792c693f-3674-4066-ad12-b3b0947b7281"
      },
      "execution_count": null,
      "outputs": [
        {
          "output_type": "execute_result",
          "data": {
            "text/plain": [
              "[35, 31, 32, 34, 33, 37, 36]"
            ]
          },
          "metadata": {},
          "execution_count": 6
        }
      ]
    },
    {
      "cell_type": "code",
      "source": [
        "InsertionSort(list)"
      ],
      "metadata": {
        "colab": {
          "base_uri": "https://localhost:8080/"
        },
        "id": "rFxrd8UpOONW",
        "outputId": "2b947398-08ad-42d5-8d99-6be9cfbe49ea"
      },
      "execution_count": null,
      "outputs": [
        {
          "output_type": "execute_result",
          "data": {
            "text/plain": [
              "[31, 32, 33, 34, 35, 36, 37]"
            ]
          },
          "metadata": {},
          "execution_count": 9
        }
      ]
    },
    {
      "cell_type": "code",
      "source": [
        "list = [25,26,22,24,27,23,21]"
      ],
      "metadata": {
        "id": "-YHVpSGsKCoq"
      },
      "execution_count": null,
      "outputs": []
    },
    {
      "cell_type": "code",
      "source": [
        "InsertionSort(list)\n",
        "print(list)"
      ],
      "metadata": {
        "colab": {
          "base_uri": "https://localhost:8080/"
        },
        "id": "b4mZWm27KIa4",
        "outputId": "22e98e1a-a1ba-435e-9bc1-44a335562290"
      },
      "execution_count": null,
      "outputs": [
        {
          "output_type": "stream",
          "name": "stdout",
          "text": [
            "[21, 22, 23, 24, 25, 26, 27]\n"
          ]
        }
      ]
    },
    {
      "cell_type": "code",
      "source": [
        "def InsertionSorts(list):\n",
        "    for i in range(1,len(list)):\n",
        "      j = i-1\n",
        "      next = list[i]\n",
        "\n",
        "      while (list[j] > next) and (j >=0):\n",
        "          list[j+1] = list[j]\n",
        "          j=j-1\n",
        "      list[j+1] = next\n",
        "    return list\n"
      ],
      "metadata": {
        "id": "VYw8HyEXP8_Z"
      },
      "execution_count": null,
      "outputs": []
    },
    {
      "cell_type": "code",
      "source": [
        "    list = [89,12,57,16,25,11,75]"
      ],
      "metadata": {
        "id": "DQ_fUd_5QyFc"
      },
      "execution_count": null,
      "outputs": []
    },
    {
      "cell_type": "code",
      "source": [
        "list"
      ],
      "metadata": {
        "colab": {
          "base_uri": "https://localhost:8080/"
        },
        "id": "BUmJz80SQ3-N",
        "outputId": "bcf58e2a-e887-46db-ca03-88c3b3908734"
      },
      "execution_count": null,
      "outputs": [
        {
          "output_type": "execute_result",
          "data": {
            "text/plain": [
              "[89, 12, 57, 16, 25, 11, 75]"
            ]
          },
          "metadata": {},
          "execution_count": 10
        }
      ]
    },
    {
      "cell_type": "code",
      "source": [
        "InsertionSorts(list)\n",
        "# Bisa jalan tapi saya masih kurang paham :/"
      ],
      "metadata": {
        "colab": {
          "base_uri": "https://localhost:8080/"
        },
        "id": "wZFG8bYVQ8P6",
        "outputId": "0baec782-6c70-4f2f-e27e-2b58e7f874dd"
      },
      "execution_count": null,
      "outputs": [
        {
          "output_type": "execute_result",
          "data": {
            "text/plain": [
              "[11, 12, 16, 25, 57, 75, 89]"
            ]
          },
          "metadata": {},
          "execution_count": 13
        }
      ]
    },
    {
      "cell_type": "code",
      "source": [
        "# Selection sort\n",
        "def SelectionSort(list):\n",
        "    for fill_slot in range(len(list) - 1, 0, -1):\n",
        "        max_index = 0\n",
        "        for location in range(1, fill_slot + 1):\n",
        "            if list[location] > list[max_index]:\n",
        "                  max_index = location\n",
        "        list[fill_slot], list[max_index] = list[max_index], list[fill_slot]\n",
        "    return list"
      ],
      "metadata": {
        "id": "SBepKYxBRIBJ"
      },
      "execution_count": null,
      "outputs": []
    },
    {
      "cell_type": "code",
      "source": [
        "list = [70,15,25,19,34,44]\n",
        "SelectionSort(list)"
      ],
      "metadata": {
        "colab": {
          "base_uri": "https://localhost:8080/"
        },
        "id": "TpLa1paKTSyN",
        "outputId": "9bb53981-398d-4004-e470-cea94d1e061c"
      },
      "execution_count": null,
      "outputs": [
        {
          "output_type": "execute_result",
          "data": {
            "text/plain": [
              "[15, 19, 25, 34, 44, 70]"
            ]
          },
          "metadata": {},
          "execution_count": 16
        }
      ]
    },
    {
      "cell_type": "code",
      "source": [
        "list"
      ],
      "metadata": {
        "colab": {
          "base_uri": "https://localhost:8080/"
        },
        "id": "37PLdJdkUO3D",
        "outputId": "db56a311-2c55-4069-ed81-c73ddb08aa8e"
      },
      "execution_count": null,
      "outputs": [
        {
          "output_type": "execute_result",
          "data": {
            "text/plain": [
              "[15, 19, 25, 34, 44, 70]"
            ]
          },
          "metadata": {},
          "execution_count": 17
        }
      ]
    },
    {
      "cell_type": "code",
      "source": [
        "list = [70,15,25,19,34,44]\n",
        "SelectionSort(list)\n",
        "print(list)"
      ],
      "metadata": {
        "colab": {
          "base_uri": "https://localhost:8080/"
        },
        "id": "RTi7N_7FWtDw",
        "outputId": "59a876c8-9b6a-49eb-c44e-6f4d514c4b3d"
      },
      "execution_count": null,
      "outputs": [
        {
          "output_type": "stream",
          "name": "stdout",
          "text": [
            "[15, 19, 25, 34, 44, 70]\n"
          ]
        }
      ]
    },
    {
      "cell_type": "code",
      "source": [
        "list = [89,12,57,16,25]\n",
        "SelectionSort(list)"
      ],
      "metadata": {
        "colab": {
          "base_uri": "https://localhost:8080/"
        },
        "id": "9f9qYeRcW2pb",
        "outputId": "8f670f19-c61c-4527-e36c-e150dd77e270"
      },
      "execution_count": null,
      "outputs": [
        {
          "output_type": "execute_result",
          "data": {
            "text/plain": [
              "[12, 16, 25, 57, 89]"
            ]
          },
          "metadata": {},
          "execution_count": 23
        }
      ]
    },
    {
      "cell_type": "code",
      "source": [
        "# Linear search\n",
        "def LinearSearch(list, item):\n",
        "    index = 0\n",
        "    found = False\n",
        "\n",
        "# Match the value with each data element\n",
        "    while index < len(list) and found is False:\n",
        "        if list[index] == item:\n",
        "            found = True\n",
        "        else:\n",
        "            index = index + 1\n",
        "    return found"
      ],
      "metadata": {
        "id": "0nLIXxP1XK9V"
      },
      "execution_count": null,
      "outputs": []
    },
    {
      "cell_type": "code",
      "source": [
        "list = [12, 33, 11, 99, 22, 55, 90]\n",
        "print(LinearSearch(list, 12))\n",
        "print(LinearSearch(list, 91))"
      ],
      "metadata": {
        "colab": {
          "base_uri": "https://localhost:8080/"
        },
        "id": "2USFEuJFaZD0",
        "outputId": "3861dc60-73ab-4ba0-ad48-8f4d6eabe510"
      },
      "execution_count": null,
      "outputs": [
        {
          "output_type": "stream",
          "name": "stdout",
          "text": [
            "True\n",
            "False\n"
          ]
        }
      ]
    },
    {
      "cell_type": "code",
      "source": [
        "list = [\"y\",\"u\",\"i\",\"w\",\"o\",\"a\",\"q\",\"u\",\"j\",\"p\"]\n",
        "print(LinearSearch(list, \"a\"))"
      ],
      "metadata": {
        "colab": {
          "base_uri": "https://localhost:8080/"
        },
        "id": "VpTAawhWaw2D",
        "outputId": "fd689621-4674-4864-8b41-80f973c75857"
      },
      "execution_count": null,
      "outputs": [
        {
          "output_type": "stream",
          "name": "stdout",
          "text": [
            "True\n"
          ]
        }
      ]
    },
    {
      "cell_type": "code",
      "source": [
        "# Binary Search\n",
        "def BinarySearch(list, item):\n",
        "    first = 0\n",
        "    last = len(list)-1\n",
        "    found = False\n",
        "\n",
        "    while first <= last and not found:\n",
        "        midpoint = (first + last)//2\n",
        "        if list[midpoint] == item:\n",
        "            found = True\n",
        "        else:\n",
        "            if item > list[midpoint]:\n",
        "                last = midpoint-1\n",
        "            else:\n",
        "                first = midpoint+1\n",
        "    return found"
      ],
      "metadata": {
        "id": "QqqXaEkVbVEz"
      },
      "execution_count": 19,
      "outputs": []
    },
    {
      "cell_type": "code",
      "source": [
        "list = [12,33,11,99,22,55,90]\n",
        "print(BinarySearch(list, 12))\n",
        "print(BinarySearch(list, 91))"
      ],
      "metadata": {
        "colab": {
          "base_uri": "https://localhost:8080/"
        },
        "id": "gn5khkGzj_xO",
        "outputId": "2fb8db9e-f72b-448b-efc5-9a0ac52013a9"
      },
      "execution_count": 9,
      "outputs": [
        {
          "output_type": "stream",
          "name": "stdout",
          "text": [
            "True\n",
            "False\n"
          ]
        }
      ]
    },
    {
      "cell_type": "code",
      "source": [
        "list = [\"y\",\"u\",\"i\",\"w\",\"o\",\"a\",\"q\",\"u\",\"j\",\"p\"]\n",
        "\n",
        "print(BinarySearch(list, \"o\"))"
      ],
      "metadata": {
        "colab": {
          "base_uri": "https://localhost:8080/"
        },
        "id": "I0oW1bvuktiW",
        "outputId": "0a6db530-e15c-485b-c642-0da6ff4405fb"
      },
      "execution_count": 21,
      "outputs": [
        {
          "output_type": "stream",
          "name": "stdout",
          "text": [
            "True\n"
          ]
        }
      ]
    },
    {
      "cell_type": "code",
      "source": [
        "# Interpolation Search\n",
        "\n",
        "def IntPolsearch(list, x):\n",
        "    idx0 = 0\n",
        "    idxn = len(list) - 1\n",
        "    found = False\n",
        "    while idx0 <= idxn and x >= list[idx0] and x <= list[idxn]:\n",
        "# Find the mid point\n",
        "        mid = idx0 + int(((float(idxn - idx0) / (list[idxn] - list[idx0])) * (x - list[idx0])))\n",
        "# Compare the value at mid point with search value\n",
        "        if list[mid] == x:\n",
        "            found = True\n",
        "            return found\n",
        "        if list[mid] < x:\n",
        "            idx0 = mid + 1\n",
        "        else:\n",
        "            idxn = mid - 1\n",
        "    return found\n"
      ],
      "metadata": {
        "id": "VLlqsQVgltET"
      },
      "execution_count": 53,
      "outputs": []
    },
    {
      "cell_type": "code",
      "source": [
        "list = [12, 33, 11, 99, 22, 55, 90]\n",
        "list.sort()\n",
        "print(IntPolsearch(list, 12))\n",
        "print(IntPolsearch(list, 91))"
      ],
      "metadata": {
        "colab": {
          "base_uri": "https://localhost:8080/"
        },
        "id": "ZVJJSYG4v2m-",
        "outputId": "d1368e67-a0ca-4256-e9b0-cfda9c62c99b"
      },
      "execution_count": 54,
      "outputs": [
        {
          "output_type": "stream",
          "name": "stdout",
          "text": [
            "True\n",
            "False\n"
          ]
        }
      ]
    },
    {
      "cell_type": "code",
      "source": [
        "list = [\"y\", \"u\", \"i\", \"w\", \"o\", \"a\", \"q\", \"u\", \"j\", \"p\"]\n",
        "list.sort()\n",
        "\n",
        "print(IntPolsearch(list, \"u\"))\n"
      ],
      "metadata": {
        "colab": {
          "base_uri": "https://localhost:8080/",
          "height": 331
        },
        "id": "EB3qQeZWu3JE",
        "outputId": "2ebb7420-9ba8-438a-f353-10faf5be1ff3"
      },
      "execution_count": 56,
      "outputs": [
        {
          "output_type": "error",
          "ename": "TypeError",
          "evalue": "ignored",
          "traceback": [
            "\u001b[0;31m---------------------------------------------------------------------------\u001b[0m",
            "\u001b[0;31mTypeError\u001b[0m                                 Traceback (most recent call last)",
            "\u001b[0;32m<ipython-input-56-b9b07cda259e>\u001b[0m in \u001b[0;36m<cell line: 4>\u001b[0;34m()\u001b[0m\n\u001b[1;32m      2\u001b[0m \u001b[0mlist\u001b[0m\u001b[0;34m.\u001b[0m\u001b[0msort\u001b[0m\u001b[0;34m(\u001b[0m\u001b[0;34m)\u001b[0m\u001b[0;34m\u001b[0m\u001b[0;34m\u001b[0m\u001b[0m\n\u001b[1;32m      3\u001b[0m \u001b[0;34m\u001b[0m\u001b[0m\n\u001b[0;32m----> 4\u001b[0;31m \u001b[0mprint\u001b[0m\u001b[0;34m(\u001b[0m\u001b[0mIntPolsearch\u001b[0m\u001b[0;34m(\u001b[0m\u001b[0mlist\u001b[0m\u001b[0;34m,\u001b[0m \u001b[0;34m\"u\"\u001b[0m\u001b[0;34m)\u001b[0m\u001b[0;34m)\u001b[0m\u001b[0;34m\u001b[0m\u001b[0;34m\u001b[0m\u001b[0m\n\u001b[0m",
            "\u001b[0;32m<ipython-input-53-e8f611866f11>\u001b[0m in \u001b[0;36mIntPolsearch\u001b[0;34m(list, x)\u001b[0m\n\u001b[1;32m      7\u001b[0m     \u001b[0;32mwhile\u001b[0m \u001b[0midx0\u001b[0m \u001b[0;34m<=\u001b[0m \u001b[0midxn\u001b[0m \u001b[0;32mand\u001b[0m \u001b[0mx\u001b[0m \u001b[0;34m>=\u001b[0m \u001b[0mlist\u001b[0m\u001b[0;34m[\u001b[0m\u001b[0midx0\u001b[0m\u001b[0;34m]\u001b[0m \u001b[0;32mand\u001b[0m \u001b[0mx\u001b[0m \u001b[0;34m<=\u001b[0m \u001b[0mlist\u001b[0m\u001b[0;34m[\u001b[0m\u001b[0midxn\u001b[0m\u001b[0;34m]\u001b[0m\u001b[0;34m:\u001b[0m\u001b[0;34m\u001b[0m\u001b[0;34m\u001b[0m\u001b[0m\n\u001b[1;32m      8\u001b[0m \u001b[0;31m# Find the mid point\u001b[0m\u001b[0;34m\u001b[0m\u001b[0;34m\u001b[0m\u001b[0m\n\u001b[0;32m----> 9\u001b[0;31m         \u001b[0mmid\u001b[0m \u001b[0;34m=\u001b[0m \u001b[0midx0\u001b[0m \u001b[0;34m+\u001b[0m \u001b[0mint\u001b[0m\u001b[0;34m(\u001b[0m\u001b[0;34m(\u001b[0m\u001b[0;34m(\u001b[0m\u001b[0mfloat\u001b[0m\u001b[0;34m(\u001b[0m\u001b[0midxn\u001b[0m \u001b[0;34m-\u001b[0m \u001b[0midx0\u001b[0m\u001b[0;34m)\u001b[0m \u001b[0;34m/\u001b[0m \u001b[0;34m(\u001b[0m\u001b[0mlist\u001b[0m\u001b[0;34m[\u001b[0m\u001b[0midxn\u001b[0m\u001b[0;34m]\u001b[0m \u001b[0;34m-\u001b[0m \u001b[0mlist\u001b[0m\u001b[0;34m[\u001b[0m\u001b[0midx0\u001b[0m\u001b[0;34m]\u001b[0m\u001b[0;34m)\u001b[0m\u001b[0;34m)\u001b[0m \u001b[0;34m*\u001b[0m \u001b[0;34m(\u001b[0m\u001b[0mx\u001b[0m \u001b[0;34m-\u001b[0m \u001b[0mlist\u001b[0m\u001b[0;34m[\u001b[0m\u001b[0midx0\u001b[0m\u001b[0;34m]\u001b[0m\u001b[0;34m)\u001b[0m\u001b[0;34m)\u001b[0m\u001b[0;34m)\u001b[0m\u001b[0;34m\u001b[0m\u001b[0;34m\u001b[0m\u001b[0m\n\u001b[0m\u001b[1;32m     10\u001b[0m \u001b[0;31m# Compare the value at mid point with search value\u001b[0m\u001b[0;34m\u001b[0m\u001b[0;34m\u001b[0m\u001b[0m\n\u001b[1;32m     11\u001b[0m         \u001b[0;32mif\u001b[0m \u001b[0mlist\u001b[0m\u001b[0;34m[\u001b[0m\u001b[0mmid\u001b[0m\u001b[0;34m]\u001b[0m \u001b[0;34m==\u001b[0m \u001b[0mx\u001b[0m\u001b[0;34m:\u001b[0m\u001b[0;34m\u001b[0m\u001b[0;34m\u001b[0m\u001b[0m\n",
            "\u001b[0;31mTypeError\u001b[0m: unsupported operand type(s) for -: 'str' and 'str'"
          ]
        }
      ]
    }
  ]
}