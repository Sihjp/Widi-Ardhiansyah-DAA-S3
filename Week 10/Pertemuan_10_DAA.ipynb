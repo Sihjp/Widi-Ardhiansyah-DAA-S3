{
  "nbformat": 4,
  "nbformat_minor": 0,
  "metadata": {
    "colab": {
      "provenance": [],
      "toc_visible": true
    },
    "kernelspec": {
      "name": "python3",
      "display_name": "Python 3"
    },
    "language_info": {
      "name": "python"
    }
  },
  "cells": [
    {
      "cell_type": "code",
      "execution_count": 2,
      "metadata": {
        "colab": {
          "base_uri": "https://localhost:8080/"
        },
        "id": "45mrd6LeP4kn",
        "outputId": "6ae92534-8b5e-4457-aec1-d9bba8e68221"
      },
      "outputs": [
        {
          "output_type": "stream",
          "name": "stdout",
          "text": [
            "Collecting pulp\n",
            "  Downloading PuLP-2.7.0-py3-none-any.whl (14.3 MB)\n",
            "\u001b[2K     \u001b[90m━━━━━━━━━━━━━━━━━━━━━━━━━━━━━━━━━━━━━━━━\u001b[0m \u001b[32m14.3/14.3 MB\u001b[0m \u001b[31m21.1 MB/s\u001b[0m eta \u001b[36m0:00:00\u001b[0m\n",
            "\u001b[?25hInstalling collected packages: pulp\n",
            "Successfully installed pulp-2.7.0\n"
          ]
        }
      ],
      "source": [
        "pip install pulp"
      ]
    },
    {
      "cell_type": "code",
      "source": [
        "# Slide 12 - 15\n",
        "import pulp\n",
        "\n",
        "def solve_profit_maximization():\n",
        "    # Instantiate our problem class\n",
        "    model = pulp.LpProblem(\"ProfitMaximizationProblem\", pulp.LpMaximize)\n",
        "\n",
        "    A = pulp.LpVariable('A', lowBound=0, cat='Integer')\n",
        "    B = pulp.LpVariable('B', lowBound=0, cat='Integer')\n",
        "\n",
        "    # Objective function\n",
        "    model += 4200 * A + 2800 * B, \"Profit\"\n",
        "\n",
        "    # Constraints\n",
        "    model += 3 * A + 2 * B <= 20\n",
        "    model += 4 * A + 3 * B <= 30\n",
        "    model += 4 * A + 3 * B <= 44\n",
        "\n",
        "    # Solve our problem\n",
        "    model.solve()\n",
        "    return pulp.LpStatus[model.status], A.varValue, B.varValue, pulp.value(model.objective)\n",
        "\n",
        "# Usage example\n",
        "status, var_A, var_B, objective_value = solve_profit_maximization()\n",
        "print(status)\n",
        "print(var_A)\n",
        "print(var_B)\n",
        "print(objective_value)\n"
      ],
      "metadata": {
        "colab": {
          "base_uri": "https://localhost:8080/"
        },
        "id": "xe9R7Pi-S2DD",
        "outputId": "e0390d73-25fd-439a-d65c-c042c683b530"
      },
      "execution_count": 5,
      "outputs": [
        {
          "output_type": "stream",
          "name": "stdout",
          "text": [
            "Optimal\n",
            "6.0\n",
            "1.0\n",
            "28000.0\n"
          ]
        }
      ]
    },
    {
      "cell_type": "code",
      "source": [
        "# Slide 18\n",
        "# 4x + 3y = 34\n",
        "import pulp\n",
        "\n",
        "# Membuat objek masalah optimasi\n",
        "model = pulp.LpProblem(name=\"Pemecahan_Persamaan\", sense = pulp.LpMinimize)\n",
        "\n",
        "# Membuat variabel\n",
        "x = pulp.LpVariable(name=\"x\")\n",
        "y = pulp.LpVariable(name=\"y\")\n",
        "\n",
        "# Menumbuhkan batasan\n",
        "model += 4 * x + 3 * y == 34\n",
        "\n",
        "# Menyelesaikan masalah\n",
        "model.solve()\n",
        "\n",
        "# Menampilkan hasil\n",
        "print(\"Status:\", model.status)\n",
        "print(\"Nilai x =\", x.varValue)\n",
        "print(\"Nilai y =\", y.varValue)"
      ],
      "metadata": {
        "colab": {
          "base_uri": "https://localhost:8080/"
        },
        "id": "8dSjVA_JVfOR",
        "outputId": "15f716fb-c4ac-4b61-813e-bc9a9d7d264a"
      },
      "execution_count": null,
      "outputs": [
        {
          "output_type": "stream",
          "name": "stdout",
          "text": [
            "Status: 1\n",
            "Nilai x = 8.5\n",
            "Nilai y = 0.0\n"
          ]
        }
      ]
    },
    {
      "cell_type": "code",
      "source": [
        "import pulp\n",
        "\n",
        "# Membuat objek masalah optimasi\n",
        "model = pulp.LpProblem(name=\"Pemecahan_Persamaan\", sense = pulp.LpMinimize)\n",
        "\n",
        "# Membuat variabel\n",
        "x = pulp.LpVariable(name=\"x\")\n",
        "y = pulp.LpVariable(name=\"y\")\n",
        "\n",
        "# Menumbuhkan batasan\n",
        "model += 5 * x + y == 37\n",
        "\n",
        "# Menyelesaikan masalah\n",
        "model.solve()\n",
        "\n",
        "# Menampilkan hasil\n",
        "print(\"Status:\", model.status)\n",
        "print(\"Nilai x =\", x.varValue)\n",
        "print(\"Nilai y =\", y.varValue)"
      ],
      "metadata": {
        "colab": {
          "base_uri": "https://localhost:8080/"
        },
        "id": "e4zxXyBPd0j-",
        "outputId": "a368c861-7478-440d-e5d5-fd4b0904ebb4"
      },
      "execution_count": null,
      "outputs": [
        {
          "output_type": "stream",
          "name": "stdout",
          "text": [
            "Status: 1\n",
            "Nilai x = 7.4\n",
            "Nilai y = 0.0\n"
          ]
        }
      ]
    },
    {
      "cell_type": "code",
      "source": [
        "# Slide 20\n",
        "# Latihan Soal\n",
        "\n",
        "import pulp\n",
        "\n",
        "# Membuat objek masalah optimasi\n",
        "model = pulp.LpProblem(name=\"Pemecahan_Persamaan\", sense = pulp.LpMinimize)\n",
        "\n",
        "# Membuat variabel\n",
        "p = pulp.LpVariable(name=\"p\")\n",
        "b = pulp.LpVariable(name=\"b\")\n",
        "\n",
        "# Menumbuhkan batasan\n",
        "model += 3 * p + 4 * b == 11000\n",
        "model += 3 * p + 21 * b == 45000\n",
        "\n",
        "\n",
        "\n",
        "# Menyelesaikan masalah\n",
        "model.solve()\n",
        "\n",
        "# Menampilkan hasil\n",
        "print(\"Status:\", model.status)\n",
        "print(\"Nilai x =\", p.varValue)\n",
        "print(\"Nilai y =\", b.varValue)\n",
        "\n",
        "\n",
        "# Belum Selesai"
      ],
      "metadata": {
        "colab": {
          "base_uri": "https://localhost:8080/"
        },
        "id": "besYTVeJjSBI",
        "outputId": "a8ba57dc-33ad-4dda-9aca-3588f4e29301"
      },
      "execution_count": null,
      "outputs": [
        {
          "output_type": "stream",
          "name": "stdout",
          "text": [
            "Status: -1\n",
            "Nilai x = 1000.0\n",
            "Nilai y = 2000.0\n"
          ]
        }
      ]
    },
    {
      "cell_type": "code",
      "source": [
        "# Slide 22\n",
        "# Latihan Soal\n",
        "import pulp\n",
        "\n",
        "# Membuat objek masalah optimasi\n",
        "model = pulp.LpProblem(name=\"Pemecahan_Persamaan\", sense = pulp.LpMinimize)\n",
        "\n",
        "# Membuat variabel\n",
        "x = pulp.LpVariable(name=\"x\")\n",
        "y = pulp.LpVariable(name=\"y\")\n",
        "\n",
        "# Menumbuhkan batasan\n",
        "model += 2 * x + 2 * y == 44\n",
        "model +=  x - y == 6\n",
        "\n",
        "# Menyelesaikan masalah\n",
        "model.solve()\n",
        "\n",
        "# Menampilkan hasil\n",
        "print(\"Status:\", model.status)\n",
        "print(\"Nilai x =\", x.varValue)\n",
        "print(\"Nilai y =\", y.varValue)"
      ],
      "metadata": {
        "colab": {
          "base_uri": "https://localhost:8080/"
        },
        "id": "bJGg0XFBn5Pi",
        "outputId": "8285d9fa-9958-4221-b3fe-f3478cd0b9d9"
      },
      "execution_count": null,
      "outputs": [
        {
          "output_type": "stream",
          "name": "stdout",
          "text": [
            "Status: 1\n",
            "Nilai x = 14.0\n",
            "Nilai y = 8.0\n"
          ]
        }
      ]
    },
    {
      "cell_type": "markdown",
      "source": [
        "# Import Scipy dan linprog\n",
        "**Menggunakan Scipy**\n",
        "max z = 5x1 + 7x2 dimana\n",
        "1x1 + 0x2 <= 16, 2x1 + 3x2 <= 19, 1x1 + 1x2 <= 8, x1, x2 >= 0"
      ],
      "metadata": {
        "id": "D2gUAow9spTj"
      }
    },
    {
      "cell_type": "code",
      "source": [
        "# Slide 27 - 32\n",
        "# Importrequired Libraries\n",
        "import numpy as np\n",
        "from scipy.optimize import linprog\n",
        "\n",
        "# Set the inequality constraints matrix\n",
        "# Note : the inequality constraints must be in the form of <=\n",
        "A = np.array([[1,0], [2,3], [1,1], [-1,0], [0,-1]])\n",
        "\n",
        "# Set the inequality constraints vector\n",
        "b = np.array([16, 19, 8, 0, 0])\n",
        "\n",
        "# Set the coefficients of the linear objective function vector\n",
        "# Note : when maximizing, change the signs of the c vector coefficient\n",
        "c = np.array([-5, -7])\n",
        "\n",
        "# Solve Linear proramming problem\n",
        "res = linprog(c, A_ub=A, b_ub=b)\n",
        "# Print results\n",
        "print('Optimal value:', round(res.fun*-1, ndigits=2),\n",
        "      '\\nx values:', res.x,\n",
        "      '\\nNumber of iterations performed:', res.nit,\n",
        "      '\\nStatus:', res.message)\n",
        "\n",
        "# jumlah iterasi yang ditampilkan adalah 3, bukan 5,\n",
        "# itu mungkin karena metode linprog telah mencapai solusi optimal dalam 3 iterasi,\n",
        "# dan tidak perlu melakukan iterasi lebih lanjut."
      ],
      "metadata": {
        "colab": {
          "base_uri": "https://localhost:8080/"
        },
        "id": "vYl4tsuirdFy",
        "outputId": "fc7d1c34-6fe3-4edf-8b15-da95d123beb6"
      },
      "execution_count": null,
      "outputs": [
        {
          "output_type": "stream",
          "name": "stdout",
          "text": [
            "Optimal value: 46.0 \n",
            "x values: [5. 3.] \n",
            "Number of iterations performed: 3 \n",
            "Status: Optimization terminated successfully. (HiGHS Status 7: Optimal)\n"
          ]
        }
      ]
    },
    {
      "cell_type": "code",
      "source": [
        "# Slide 32\n",
        "\n",
        "# 1.Impor modul yang diperlukan dari Scipy:\n",
        "from scipy.optimize import linprog\n",
        "\n",
        "#2. Tentukan koefisien fungsi tujuan dan matriks batasan:\n",
        "\n",
        "# Koefisien fungsi tujuan (Z= 5x1 + 7x2)\n",
        "\n",
        "c = [-5, -7] # Karena kita ingin \"maksimalkan\" -5x1 - 7x2, maka perlu diubah menjadi \"-5\" dan \"-7\".\n",
        "\n",
        "# Koefisien matriks batasan\n",
        "A = [\n",
        "    [1, 0], # 1x1+0x2 <= 16\n",
        "    [2, 3], # 2x13x2 <= 19\n",
        "    [1, 1] # 1x1 + 1x2 <= 8\n",
        "]\n",
        "# Batasan kanan (rhs) dari masing-masing batasan\n",
        "b = [16, 19, 8]\n",
        "\n",
        "#3. Tentukan batasan variabel x1 dan x2 sebagai variabel non-negatif:\n",
        "x1_bounds = (0, None) # x1 >= 0\n",
        "x2_bounds = (0, None) # x2 >= 0\n",
        "\n",
        "\n",
        "#4. Gunakan linprog untuk menyelesaikan masalah pemrograman linier:\n",
        "result = linprog (c, A_ub=A, b_ub=b, bounds=[x1_bounds, x2_bounds], method=\"highs\")\n",
        "\n",
        "# 5. Tampilkan hasilnya:\n",
        "\n",
        "# Hasil optimasi\n",
        "print(\"Optimal solution:\")\n",
        "print(\"x1\", result.x[0])\n",
        "print(\"x2 =\", result.x[1])\n",
        "print(\"Max ==\", -result.fun) # Karena tujuannya adalah memaksimalkan -2"
      ],
      "metadata": {
        "colab": {
          "base_uri": "https://localhost:8080/"
        },
        "id": "GOD5piuawUEs",
        "outputId": "3bd687d2-e8cc-4986-faf5-65bbd03ee4ae"
      },
      "execution_count": null,
      "outputs": [
        {
          "output_type": "stream",
          "name": "stdout",
          "text": [
            "Optimal solution:\n",
            "x1 5.0\n",
            "x2 = 3.0\n",
            "Max == 46.0\n"
          ]
        }
      ]
    },
    {
      "cell_type": "code",
      "source": [
        "# Slide 33\n",
        "\n",
        "import pulp\n",
        "\n",
        "# Membuat objek masalah optimasi\n",
        "model = pulp.LpProblem(name=\"Pemecahan_Persamaan\", sense = pulp.LpMinimize)\n",
        "\n",
        "# Membuat variabel\n",
        "x = pulp.LpVariable(name=\"x\")\n",
        "y = pulp.LpVariable(name=\"y\")\n",
        "\n",
        "# Menumbuhkan batasan\n",
        "model += 4 * x + 3 * y == 28\n",
        "\n",
        "# Menyelesaikan masalah\n",
        "model.solve()\n",
        "\n",
        "# Menampilkan hasil\n",
        "print(\"Status:\", model.status)\n",
        "print(\"Nilai x =\", x.varValue)\n",
        "print(\"Nilai y =\", y.varValue)"
      ],
      "metadata": {
        "colab": {
          "base_uri": "https://localhost:8080/"
        },
        "id": "IgPI_yVIxwul",
        "outputId": "17179f41-a74c-4c0b-9558-412bc370db89"
      },
      "execution_count": null,
      "outputs": [
        {
          "output_type": "stream",
          "name": "stdout",
          "text": [
            "Status: 1\n",
            "Nilai x = 7.0\n",
            "Nilai y = 0.0\n"
          ]
        }
      ]
    },
    {
      "cell_type": "code",
      "source": [
        "import pulp\n",
        "\n",
        "# Membuat objek masalah optimasi\n",
        "model = pulp.LpProblem(name=\"Pemecahan_Persamaan\", sense = pulp.LpMinimize)\n",
        "\n",
        "# Membuat variabel\n",
        "x = pulp.LpVariable(name=\"x\")\n",
        "y = pulp.LpVariable(name=\"y\")\n",
        "\n",
        "# Menumbuhkan batasan\n",
        "model += 2 * x + y == 21\n",
        "\n",
        "# Menyelesaikan masalah\n",
        "model.solve()\n",
        "\n",
        "# Menampilkan hasil\n",
        "print(\"Status:\", model.status)\n",
        "print(\"Nilai x =\", x.varValue)\n",
        "print(\"Nilai y =\", y.varValue)"
      ],
      "metadata": {
        "colab": {
          "base_uri": "https://localhost:8080/"
        },
        "id": "ZOtkGFWAyab-",
        "outputId": "83a15f03-89aa-43d6-b911-54616c6095ad"
      },
      "execution_count": null,
      "outputs": [
        {
          "output_type": "stream",
          "name": "stdout",
          "text": [
            "Status: 1\n",
            "Nilai x = 10.5\n",
            "Nilai y = 0.0\n"
          ]
        }
      ]
    },
    {
      "cell_type": "code",
      "source": [
        "import pulp\n",
        "\n",
        "# Membuat objek masalah optimasi\n",
        "model = pulp.LpProblem(name=\"Pemecahan_Persamaan\", sense = pulp.LpMinimize)\n",
        "\n",
        "# Membuat variabel\n",
        "x = pulp.LpVariable(name=\"x\")\n",
        "y = pulp.LpVariable(name=\"y\")\n",
        "\n",
        "# Menumbuhkan batasan\n",
        "model += 3 * x + 4 * y == 55\n",
        "model += x + y == 16\n",
        "\n",
        "# Menyelesaikan masalah\n",
        "model.solve()\n",
        "\n",
        "# Menampilkan hasil\n",
        "print(\"Status:\", model.status)\n",
        "print(\"Nilai x =\", x.varValue)\n",
        "print(\"Nilai y =\", y.varValue)"
      ],
      "metadata": {
        "colab": {
          "base_uri": "https://localhost:8080/"
        },
        "id": "NgHOHjRwymi4",
        "outputId": "2c787b7f-e947-44dd-de74-2bceb68cba9b"
      },
      "execution_count": null,
      "outputs": [
        {
          "output_type": "stream",
          "name": "stdout",
          "text": [
            "Status: 1\n",
            "Nilai x = 9.0\n",
            "Nilai y = 7.0\n"
          ]
        }
      ]
    }
  ]
}