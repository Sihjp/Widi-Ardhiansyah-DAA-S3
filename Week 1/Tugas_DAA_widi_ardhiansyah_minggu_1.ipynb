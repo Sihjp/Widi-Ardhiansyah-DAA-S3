{
  "nbformat": 4,
  "nbformat_minor": 0,
  "metadata": {
    "colab": {
      "provenance": [],
      "toc_visible": true,
      "authorship_tag": "ABX9TyPhKucaqI4FjGUYDe9GHkw3",
      "include_colab_link": true
    },
    "kernelspec": {
      "name": "python3",
      "display_name": "Python 3"
    },
    "language_info": {
      "name": "python"
    }
  },
  "cells": [
    {
      "cell_type": "markdown",
      "metadata": {
        "id": "view-in-github",
        "colab_type": "text"
      },
      "source": [
        "<a href=\"https://colab.research.google.com/github/Sihjp/Widi-Ardhiansyah-DAA-S3/blob/main/Tugas_DAA_widi_ardhiansyah_minggu_1.ipynb\" target=\"_parent\"><img src=\"https://colab.research.google.com/assets/colab-badge.svg\" alt=\"Open In Colab\"/></a>"
      ]
    },
    {
      "cell_type": "markdown",
      "source": [
        "Step 1 Jika n = 0, return nilai m sebagai hasil dan stop.\n",
        "\n",
        "Step 2 Bagi nilai m dengan n, masukan nilai sisanya ke r.\n",
        "\n",
        "Jika tidak, kembali ke Step 2.\n",
        "\n",
        "Step 3 Masukan nilai n ke m dan nilai r ke n. Kembali ke Step 1.\n",
        "\n",
        "```\n",
        "# This is formatted as code\n",
        "Pseudocode:\n",
        "While n ≠ 0 do\n",
        "r ← m mod n\n",
        "m ← n\n",
        "n ← r return m\n",
        "```\n",
        "\n"
      ],
      "metadata": {
        "id": "2m11Jlm7PY-J"
      }
    },
    {
      "cell_type": "code",
      "source": [
        "def euclid_gcd(m, n):\n",
        "    while n != 0:\n",
        "        m, n = n, m % n\n",
        "    return m\n",
        "\n",
        "# Menggunakan algoritma Euclid untuk mencari GCD dari 60 dan 24\n",
        "m = 60\n",
        "n = 24\n",
        "result = euclid_gcd(m, n)\n",
        "print(f\"GCD dari {m} dan {n} adalah {result}\")\n"
      ],
      "metadata": {
        "colab": {
          "base_uri": "https://localhost:8080/"
        },
        "id": "1fNwUznuQq_z",
        "outputId": "3061cafc-c11d-4a8a-b360-1efce2951922"
      },
      "execution_count": null,
      "outputs": [
        {
          "output_type": "stream",
          "name": "stdout",
          "text": [
            "GCD dari 60 dan 24 adalah 12\n"
          ]
        }
      ]
    },
    {
      "cell_type": "markdown",
      "source": [
        "Tugas Minggu Pertama Desain dan Analisis Algoritma"
      ],
      "metadata": {
        "id": "oTwCZwtFfPPy"
      }
    },
    {
      "cell_type": "markdown",
      "source": [
        "1. Cari nilai KPK dari 3 dan 4"
      ],
      "metadata": {
        "id": "kEVuLdAufXvI"
      }
    },
    {
      "cell_type": "code",
      "source": [
        "def cari_kpk(angka1, angka2):\n",
        "    def cari_fpb(a, b):\n",
        "        while b:\n",
        "            a, b = b, a % b\n",
        "        return a\n",
        "\n",
        "    return (angka1 * angka2) // cari_fpb(angka1, angka2)\n",
        "\n",
        "angka1 = 3\n",
        "angka2 = 4\n",
        "\n",
        "kpk = cari_kpk(angka1, angka2)\n",
        "\n",
        "print(f\"KPK dari {angka1} dan {angka2} adalah {kpk}\")\n"
      ],
      "metadata": {
        "colab": {
          "base_uri": "https://localhost:8080/"
        },
        "id": "wzTVhCqDf-ny",
        "outputId": "c91dd677-1ad4-4b73-f1a3-d234cc3619db"
      },
      "execution_count": null,
      "outputs": [
        {
          "output_type": "stream",
          "name": "stdout",
          "text": [
            "KPK dari 3 dan 4 adalah 12\n"
          ]
        }
      ]
    },
    {
      "cell_type": "markdown",
      "source": [
        "2. Fungsi untuk menukar posisi dua variabel x dan y, dengan kasus :\n",
        "Ada 2 buah: manggis dan pisang. Manggis di piring 1, Pisang di piring 2. Piring 3 kosong."
      ],
      "metadata": {
        "id": "7YLchRCAf_c0"
      }
    },
    {
      "cell_type": "code",
      "source": [
        "def tukar_posisi(piring1, piring2, piring3):\n",
        "    piring3 = piring1  # Menyimpan nilai piring1 di piring3\n",
        "    piring1 = piring2  # Menyimpan nilai piring2 di piring1\n",
        "    piring2 = piring3  # Menyimpan nilai piring3 (sebelumnya piring1) di piring2\n",
        "    return piring1, piring2, piring3\n",
        "\n",
        "def main():\n",
        "    piring1 = \"manggis\"\n",
        "    piring2 = \"pisang\"\n",
        "    piring3 = \"kosong\"\n",
        "\n",
        "    print(\"Posisi Awal:\")\n",
        "    print(\"Piring 1:\", piring1)\n",
        "    print(\"Piring 2:\", piring2)\n",
        "    print(\"Piring 3:\", piring3)\n",
        "    print(\"\")\n",
        "\n",
        "    piring1, piring2, piring3 = tukar_posisi(piring1, piring2, piring3)\n",
        "\n",
        "    # Mengatur ulang piring3 menjadi \"kosong\"\n",
        "    piring3 = \"kosong\"\n",
        "\n",
        "    print(\"Posisi Setelah Pertukaran:\")\n",
        "    print(\"Piring 1:\", piring1)\n",
        "    print(\"Piring 2:\", piring2)\n",
        "    print(\"Piring 3:\", piring3)\n",
        "\n",
        "if __name__ == \"__main__\":\n",
        "    main()\n"
      ],
      "metadata": {
        "id": "jIIViWH8gFWy"
      },
      "execution_count": null,
      "outputs": []
    },
    {
      "cell_type": "markdown",
      "source": [
        "3. Diketahui sebuah segitiga memiliki ukuran sebagai berikut:\n",
        "Alas 25\n",
        "Tinggi 30\n",
        "Hitung luas dari segitiga tersebut."
      ],
      "metadata": {
        "id": "qL22UAsLgD_D"
      }
    },
    {
      "cell_type": "code",
      "source": [
        "def hasil():\n",
        "  alas = 25\n",
        "  tinggi = 30\n",
        "\n",
        "  luas = 1/2 * alas * tinggi\n",
        "\n",
        "  print(f\"luas dari segitiga adalah {luas}\")\n",
        "\n",
        "hasil()"
      ],
      "metadata": {
        "id": "Q0TNVehlgJYo",
        "colab": {
          "base_uri": "https://localhost:8080/"
        },
        "outputId": "511f6511-cd82-4478-e4d1-25eb97ada43f"
      },
      "execution_count": null,
      "outputs": [
        {
          "output_type": "stream",
          "name": "stdout",
          "text": [
            "luas dari segitiga adalah 375.0\n"
          ]
        }
      ]
    },
    {
      "cell_type": "markdown",
      "source": [
        "4. Tentukan algoritma dan pseudocode luas jajar genjang (panjang = 5, tinggi = 3)\n",
        "\n",
        "```\n",
        "# This is Algorithm\n",
        "\n",
        "Algoritma\n",
        "panjang = 5\n",
        "tinggi = 3\n",
        "menghitung luas jajar genjang\n",
        "panjang * tinggi = hasil\n",
        "hasil yang di tampilkan akan menunjukkan hasil yang sudah di cari sebelum nya\n",
        "```\n",
        "\n",
        "\n",
        "```\n",
        "# This is PseudoCode\n",
        "\n",
        "Masukkan nilai panjang\n",
        "Masukkan nilai tinggi\n",
        "\n",
        "Hitung luas = panjang * tinggi\n",
        "\n",
        "Tampilkan \"Luas jajar genjang adalah:\", luas\n",
        "```\n",
        "\n",
        "\n"
      ],
      "metadata": {
        "id": "spBc178KgKQi"
      }
    },
    {
      "cell_type": "code",
      "source": [
        "def hasil():\n",
        "  panjang = 5\n",
        "  tinggi = 3\n",
        "\n",
        "  luas = panjang * tinggi\n",
        "\n",
        "  print(f\"Luas dari jajar genjang adalah {luas}\")\n",
        "\n",
        "hasil()"
      ],
      "metadata": {
        "id": "KTX036qUgflx",
        "colab": {
          "base_uri": "https://localhost:8080/"
        },
        "outputId": "c90c45a8-ba19-4e90-a139-f76a75bd6018"
      },
      "execution_count": null,
      "outputs": [
        {
          "output_type": "stream",
          "name": "stdout",
          "text": [
            "Luas dari jajar genjang adalah 15\n"
          ]
        }
      ]
    },
    {
      "cell_type": "markdown",
      "source": [
        "5. Tentukan algoritma dan pseudocode volume tabung (jari-jari = 3, tinggi = 5)\n",
        "\n",
        "```\n",
        "# This is Algorithm\n",
        "\n",
        "Algoritma\n",
        "mencari volume tabung\n",
        "dengan input\n",
        "jari-jari = 3\n",
        "tinggi    = 5\n",
        "\n",
        "volume tabung = luas alas * tinggi\n",
        "luas alas = π r²\n",
        "\n",
        "volume tabung = hasil\n",
        "```\n",
        "\n",
        "\n",
        "\n",
        "```\n",
        "# This is PseudoCode\n",
        "\n",
        "Pseudo Code\n",
        "Hitung volume = luas alas * tinggi\n",
        "Hitung luas = π jari-jari²\n",
        "\n",
        "volume = hasil\n",
        "```"
      ],
      "metadata": {
        "id": "819u8l8sgaG9"
      }
    },
    {
      "cell_type": "code",
      "source": [
        "import math\n",
        "\n",
        "def hitung_volume_tabung(jari_jari, tinggi):\n",
        "    volume = math.pi * jari_jari ** 2 * tinggi\n",
        "    return volume\n",
        "\n",
        "def main():\n",
        "    jari_jari = 3\n",
        "    tinggi = 5\n",
        "\n",
        "    volume = hitung_volume_tabung(jari_jari, tinggi)\n",
        "\n",
        "    print(\"Volume tabung adalah:\", volume)\n",
        "\n",
        "if __name__ == \"__main__\":\n",
        "    main()\n"
      ],
      "metadata": {
        "id": "p5wX-e0vgj_Q",
        "colab": {
          "base_uri": "https://localhost:8080/"
        },
        "outputId": "c6d9e020-cdb1-4b74-9bd1-1d24de44679e"
      },
      "execution_count": null,
      "outputs": [
        {
          "output_type": "stream",
          "name": "stdout",
          "text": [
            "Volume tabung adalah: 141.3716694115407\n"
          ]
        }
      ]
    },
    {
      "cell_type": "markdown",
      "source": [
        "6. Tentukan algoritma dan pseudocode volume kerucut\n",
        "\n",
        "   (diameter = 5, tinggi = 4)\n",
        "\n",
        "\n",
        "\n",
        "```\n",
        "# This is Algorithm\n",
        "\n",
        "Algoritma\n",
        "diameter = 5\n",
        "tinggi = 4\n",
        "\n",
        "volume kerucut = 1/3 * r * r * t\n",
        "diameter = 2 * r\n",
        "r = diameter/2\n",
        "\n",
        "volume = hasil\n",
        "```\n",
        "\n",
        "\n",
        "```\n",
        "# This is pseudocode\n",
        "\n",
        "Hitung volume kerucut = 1/3 * r * r * t\n",
        "Hitung r = diameter/2\n",
        "\n",
        "volume = hasil\n",
        "```\n",
        "\n",
        "\n"
      ],
      "metadata": {
        "id": "FiLlGmwqgkfi"
      }
    },
    {
      "cell_type": "code",
      "source": [
        "def jari_jari(diameter):\n",
        "    r = diameter / 2\n",
        "    return r\n",
        "\n",
        "def volume(diameter, t):\n",
        "    r = jari_jari(diameter)\n",
        "    v = (1/3) * 3.14 * r * r * t\n",
        "    return v\n",
        "\n",
        "diameter = 5\n",
        "t = 4\n",
        "hasil_volume = volume(diameter, t)\n",
        "print(f\"Jadi volume dari sebuah kerucut adalah {hasil_volume}\")"
      ],
      "metadata": {
        "colab": {
          "base_uri": "https://localhost:8080/"
        },
        "id": "6HuYVjJkO7t_",
        "outputId": "4ec47fa2-5644-41fa-f20a-57464b15a571"
      },
      "execution_count": null,
      "outputs": [
        {
          "output_type": "stream",
          "name": "stdout",
          "text": [
            "Jadi volume dari sebuah kerucut adalah 26.166666666666668\n"
          ]
        }
      ]
    },
    {
      "cell_type": "code",
      "source": [
        "//Yang ini salah\n",
        "\n",
        "def jari_jari(r):\n",
        "  r = diameter/2\n",
        "  return jari_jari\n",
        "def volume(diameter, t, v):\n",
        "    diameter = 5\n",
        "    t = 4\n",
        "    v = 1/3 * r * r * t\n",
        "\n",
        "    print(f\"Jadi volume dari sebuah kerucut adalah {volume}\")\n",
        "volume():"
      ],
      "metadata": {
        "id": "7WfY2ajbgnro",
        "colab": {
          "base_uri": "https://localhost:8080/",
          "height": 141
        },
        "outputId": "1e92503e-1059-44b3-e7e9-92a7eaab3af9"
      },
      "execution_count": 1,
      "outputs": [
        {
          "output_type": "error",
          "ename": "SyntaxError",
          "evalue": "ignored",
          "traceback": [
            "\u001b[0;36m  File \u001b[0;32m\"<ipython-input-1-b7e78d127562>\"\u001b[0;36m, line \u001b[0;32m1\u001b[0m\n\u001b[0;31m    //Yang ini salah\u001b[0m\n\u001b[0m    ^\u001b[0m\n\u001b[0;31mSyntaxError\u001b[0m\u001b[0;31m:\u001b[0m invalid syntax\n"
          ]
        }
      ]
    }
  ]
}