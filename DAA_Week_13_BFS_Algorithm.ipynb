{
  "nbformat": 4,
  "nbformat_minor": 0,
  "metadata": {
    "colab": {
      "provenance": [],
      "authorship_tag": "ABX9TyOcJywsuzB6h3fP15nV7Wlg",
      "include_colab_link": true
    },
    "kernelspec": {
      "name": "python3",
      "display_name": "Python 3"
    },
    "language_info": {
      "name": "python"
    }
  },
  "cells": [
    {
      "cell_type": "markdown",
      "metadata": {
        "id": "view-in-github",
        "colab_type": "text"
      },
      "source": [
        "<a href=\"https://colab.research.google.com/github/Sihjp/Widi-Ardhiansyah-DAA-S3/blob/main/DAA_Week_13_BFS_Algorithm.ipynb\" target=\"_parent\"><img src=\"https://colab.research.google.com/assets/colab-badge.svg\" alt=\"Open In Colab\"/></a>"
      ]
    },
    {
      "cell_type": "code",
      "execution_count": null,
      "metadata": {
        "colab": {
          "base_uri": "https://localhost:8080/"
        },
        "id": "XmNDxW5GZ4e-",
        "outputId": "951b4ea5-0960-49b2-8e1d-1172a85deccb"
      },
      "outputs": [
        {
          "output_type": "stream",
          "name": "stdout",
          "text": [
            "['Amin', 'Wasim', 'Nick', 'Mike', 'Imran', 'Faras']\n",
            "['Amin', 'Wasim', 'Nick', 'Mike', 'Imran', 'Faras']\n",
            "['Faras', 'Imran', 'Wasim', 'Amin', 'Nick', 'Mike']\n",
            "['Wasim', 'Imran', 'Amin', 'Faras', 'Nick', 'Mike']\n",
            "Amin\n",
            "Wasim\n",
            "Imran\n",
            "Faras\n",
            "Nick\n",
            "Mike\n",
            "None\n",
            "Faras\n",
            "Imran\n",
            "Wasim\n",
            "Amin\n",
            "Nick\n",
            "Mike\n",
            "None\n",
            "Wasim\n",
            "Imran\n",
            "Faras\n",
            "Amin\n",
            "Nick\n",
            "Mike\n",
            "None\n",
            "Nick\n",
            "Amin\n",
            "Wasim\n",
            "Imran\n",
            "Faras\n",
            "Mike\n",
            "None\n"
          ]
        }
      ],
      "source": [
        "# Slide 10\n",
        "def bfs(graph,start):\n",
        "  visited=[]\n",
        "  queue=[]\n",
        "  queue=[start]\n",
        "  while queue:\n",
        "    node = queue.pop(0)\n",
        "    if node not in visited:\n",
        "        visited.append(node)\n",
        "        neighbours = graph[node]\n",
        "        for neighbour in neighbours:\n",
        "            queue.append(neighbour)\n",
        "  return visited\n",
        "\n",
        "# slide 11\n",
        "graph = {'Amin'   : ['Wasim', 'Nick', 'Mike'],\n",
        "         'Wasim'  : ['Imran', 'Amin'],\n",
        "         'Imran'  : ['Wasim', 'Faras'],\n",
        "         'Faras'  : ['Imran'],\n",
        "         'Mike'   : ['Amin'],\n",
        "         'Nick'   : ['Amin']\n",
        "         }\n",
        "\n",
        "# Slide 12-15\n",
        "print(bfs(graph,'Amin'))\n",
        "\n",
        "print(bfs(graph,'Amin'))\n",
        "\n",
        "print(bfs(graph,'Faras'))\n",
        "\n",
        "print(bfs(graph,'Wasim'))\n",
        "\n",
        "# Slide 21\n",
        "# DEPTH-FIRST SEARCH\n",
        "def dfs(visted, graph, node):\n",
        "    if node not in visited:\n",
        "      print(node)\n",
        "      visited.add(node)\n",
        "      for neighbour in graph[node]:\n",
        "        dfs(visited, graph, neighbour)\n",
        "\n",
        "# Slide 22\n",
        "graph = {'Amin'   : ['Wasim', 'Nick', 'Mike'],\n",
        "         'Wasim'  : ['Imran', 'Amin'],\n",
        "         'Imran'  : ['Wasim', 'Faras'],\n",
        "         'Faras'  : ['Imran'],\n",
        "         'Mike'   : ['Amin'],\n",
        "         'Nick'   : ['Amin']\n",
        "         }\n",
        "\n",
        "# Slide 24-27\n",
        "visited = set()\n",
        "print(dfs(visited, graph,'Amin'))\n",
        "\n",
        "visited = set()\n",
        "print(dfs(visited, graph,'Faras'))\n",
        "\n",
        "visited = set()\n",
        "print(dfs(visited, graph,'Wasim'))\n",
        "\n",
        "visited = set()\n",
        "print(dfs(visited, graph,'Nick'))"
      ]
    },
    {
      "cell_type": "code",
      "source": [
        "# Slide 29\n",
        "# DEPTH-FIRST SEARCH\n",
        "def dfs(visted, graph, node):\n",
        "    if node not in visited:\n",
        "      print(node)\n",
        "      visited.add(node)\n",
        "      for neighbour in graph[node]:\n",
        "        dfs(visited, graph, neighbour)\n",
        "\n",
        "graph = {\n",
        "            'rektor' : ['warek1','warek2'],\n",
        "            'warek2' : ['kaprodi1','kaprodi2','kaprodi3','rektor'],\n",
        "            'kaprodi1' : ['dosena','dosenb','dosenc','warek2'],\n",
        "            'kaprodi2' : ['dosend','dosene','warek2'],\n",
        "            'kaprodi3' : ['dosenf','doseng','warek2'],\n",
        "            'doseng': ['kaprodi3'],\n",
        "            'dosenf': ['kaprodi3'],\n",
        "            'dosend': ['kaprodi2'],\n",
        "            'dosene': ['kaprodi2'],\n",
        "            'dosenc': ['kaprodi1'],\n",
        "            'dosenb': ['kaprodi1'],\n",
        "            'dosena': ['kaprodi1'],\n",
        "            'warek1': ['rektor']\n",
        "         }\n",
        "\n",
        "print(dfs(visited, graph,'rektor'))"
      ],
      "metadata": {
        "colab": {
          "base_uri": "https://localhost:8080/"
        },
        "id": "6CHxlZes3AmS",
        "outputId": "e3f39cac-3642-458a-883b-c97887d5529a"
      },
      "execution_count": null,
      "outputs": [
        {
          "output_type": "stream",
          "name": "stdout",
          "text": [
            "rektor\n",
            "warek1\n",
            "warek2\n",
            "kaprodi1\n",
            "dosena\n",
            "dosenb\n",
            "dosenc\n",
            "kaprodi2\n",
            "dosend\n",
            "dosene\n",
            "kaprodi3\n",
            "dosenf\n",
            "doseng\n",
            "None\n"
          ]
        }
      ]
    },
    {
      "cell_type": "code",
      "source": [
        "def bfs(graph,start):\n",
        "  visited=[]\n",
        "  queue=[]\n",
        "  queue=[start]\n",
        "  while queue:\n",
        "    node = queue.pop(0)\n",
        "    if node not in visited:\n",
        "        visited.append(node)\n",
        "        neighbours = graph[node]\n",
        "        for neighbour in neighbours:\n",
        "            queue.append(neighbour)\n",
        "  return visited\n",
        "\n",
        "# Di papan tulis Bluds\n",
        "graph = {\n",
        "            '0' : ['9','7','11'],\n",
        "            '9' : ['8','10','0'],\n",
        "            '7' : ['6','3','0','11'],\n",
        "            '8' : ['1','12','9'],\n",
        "            '6' : ['5','7'],\n",
        "            '12': ['2','8'],\n",
        "            '3' : ['2','4','7'],\n",
        "            '5' : ['6'],\n",
        "            '4' : ['3'],\n",
        "            '1' : ['10','8'],\n",
        "            '2' : ['3','12'],\n",
        "            '10' : ['9','1'],\n",
        "            '11' : ['9','7']\n",
        "         }\n",
        "\n",
        "print(bfs(graph,'0'))"
      ],
      "metadata": {
        "colab": {
          "base_uri": "https://localhost:8080/"
        },
        "id": "8P4S7gp7nTnW",
        "outputId": "f3309c1c-c3e0-489f-8e7d-c2f5f952562b"
      },
      "execution_count": null,
      "outputs": [
        {
          "output_type": "stream",
          "name": "stdout",
          "text": [
            "['0', '9', '7', '11', '8', '10', '6', '3', '1', '12', '5', '2', '4']\n"
          ]
        }
      ]
    },
    {
      "cell_type": "code",
      "source": [
        "# Slide 17\n",
        "import networkx as nx\n",
        "import matplotlib.pyplot as plt\n",
        "vertices = range(0)\n",
        "edges = [('Rektor','Warek 1'),('Rektor','Warek 2'),\n",
        "         ('Warek 2','Kaprodi 1'),('Warek 2', 'Kaprodi 2'),('Warek 2','Kaprodi 3'),\n",
        "         ('Kaprodi 1', 'Dosen A'),('Kaprodi 1', 'Dosen B'),('Kaprodi 1', 'Dosen C'),\n",
        "         ('Kaprodi 2', 'Dosen D'),('Kaprodi 2', 'Dosen E'),\n",
        "         ('Kaprodi 3', 'Dosen F'),('Kaprodi 3', 'Dosen G')\n",
        "         ]\n",
        "G = nx.Graph()\n",
        "G.add_nodes_from(vertices)\n",
        "G.add_edges_from(edges)\n",
        "nx.draw(G, with_labels=True,node_color='g',node_size=1000)\n",
        "print(nx.betweenness_centrality(G))\n",
        "plt.show()"
      ],
      "metadata": {
        "colab": {
          "base_uri": "https://localhost:8080/",
          "height": 555
        },
        "id": "gB_NxlepvO7u",
        "outputId": "35381e9a-b179-4082-ede9-3c13484b8d7e"
      },
      "execution_count": null,
      "outputs": [
        {
          "output_type": "stream",
          "name": "stdout",
          "text": [
            "{'Rektor': 0.16666666666666669, 'Warek 1': 0.0, 'Warek 2': 0.8030303030303031, 'Kaprodi 1': 0.4545454545454546, 'Kaprodi 2': 0.3181818181818182, 'Kaprodi 3': 0.3181818181818182, 'Dosen A': 0.0, 'Dosen B': 0.0, 'Dosen C': 0.0, 'Dosen D': 0.0, 'Dosen E': 0.0, 'Dosen F': 0.0, 'Dosen G': 0.0}\n"
          ]
        },
        {
          "output_type": "display_data",
          "data": {
            "text/plain": [
              "<Figure size 640x480 with 1 Axes>"
            ],
            "image/png": "[encoded data removed]"
          },
          "metadata": {}
        }
      ]
    },
    {
      "cell_type": "code",
      "source": [
        "# Slide 17\n",
        "def bfs(graph,start):\n",
        "  visited=[]\n",
        "  queue=[]\n",
        "  queue=[start]\n",
        "  while queue:\n",
        "    node = queue.pop(0)\n",
        "    if node not in visited:\n",
        "        visited.append(node)\n",
        "        neighbours = graph[node]\n",
        "        for neighbour in neighbours:\n",
        "            queue.append(neighbour)\n",
        "  return visited\n",
        "\n",
        "# Di papan tulis Bluds\n",
        "graph = {\n",
        "            'rektor' : ['warek1','warek2'],\n",
        "            'warek2' : ['kaprodi1','kaprodi2','kaprodi3','rektor'],\n",
        "            'kaprodi1' : ['dosena','dosenb','dosenc','warek2'],\n",
        "            'kaprodi2' : ['dosend','dosene','warek2'],\n",
        "            'kaprodi3' : ['dosenf','doseng','warek2'],\n",
        "            'doseng': ['kaprodi3'],\n",
        "            'dosenf': ['kaprodi3'],\n",
        "            'dosend': ['kaprodi2'],\n",
        "            'dosene': ['kaprodi2'],\n",
        "            'dosenc': ['kaprodi1'],\n",
        "            'dosenb': ['kaprodi1'],\n",
        "            'dosena': ['kaprodi1'],\n",
        "            'warek1': ['rektor']\n",
        "         }\n",
        "\n",
        "print(bfs(graph,'rektor'))"
      ],
      "metadata": {
        "colab": {
          "base_uri": "https://localhost:8080/"
        },
        "id": "FrYSIyrmwqok",
        "outputId": "cf5c6ffd-7536-46e6-a6ef-3a0896ffae2c"
      },
      "execution_count": null,
      "outputs": [
        {
          "output_type": "stream",
          "name": "stdout",
          "text": [
            "['rektor', 'warek1', 'warek2', 'kaprodi1', 'kaprodi2', 'kaprodi3', 'dosena', 'dosenb', 'dosenc', 'dosend', 'dosene', 'dosenf', 'doseng']\n"
          ]
        }
      ]
    },
    {
      "cell_type": "markdown",
      "source": [
        "# Kesimpulan\n",
        "Kedua algoritma (BFS dan DFS) digunakan untuk menjelajahi graf dan mencari informasi terkait keterhubungan antar simpul.\n",
        "Output dari kedua algoritma memberikan daftar simpul yang telah dikunjungi, tetapi DFS tidak mengembalikan nilai yang dapat dicetak."
      ],
      "metadata": {
        "id": "_0d0-Jwd-jO5"
      }
    }
  ]
}